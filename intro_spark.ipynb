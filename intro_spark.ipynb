{
  "nbformat": 4,
  "nbformat_minor": 0,
  "metadata": {
    "colab": {
      "provenance": [],
      "toc_visible": true,
      "authorship_tag": "ABX9TyPI0h7Fp+D5SiyTmtlS/R+8",
      "include_colab_link": true
    },
    "kernelspec": {
      "name": "python3",
      "display_name": "Python 3"
    },
    "language_info": {
      "name": "python"
    }
  },
  "cells": [
    {
      "cell_type": "markdown",
      "metadata": {
        "id": "view-in-github",
        "colab_type": "text"
      },
      "source": [
        "<a href=\"https://colab.research.google.com/github/vicky545/Data603-BigData/blob/main/intro_spark.ipynb\" target=\"_parent\"><img src=\"https://colab.research.google.com/assets/colab-badge.svg\" alt=\"Open In Colab\"/></a>"
      ]
    },
    {
      "cell_type": "code",
      "execution_count": null,
      "metadata": {
        "colab": {
          "base_uri": "https://localhost:8080/"
        },
        "id": "_CKISDeX9epR",
        "outputId": "e23436e9-63fc-48c6-e9e4-4eac17eac6f9"
      },
      "outputs": [
        {
          "output_type": "stream",
          "name": "stdout",
          "text": [
            "Looking in indexes: https://pypi.org/simple, https://us-python.pkg.dev/colab-wheels/public/simple/\n",
            "Requirement already satisfied: pyspark in /usr/local/lib/python3.9/dist-packages (3.3.2)\n",
            "Requirement already satisfied: py4j==0.10.9.5 in /usr/local/lib/python3.9/dist-packages (from pyspark) (0.10.9.5)\n"
          ]
        }
      ],
      "source": [
        "# Install pyspark\n",
        "!pip install pyspark\n",
        "# Import SparkSession\n",
        "from pyspark.sql import SparkSession\n",
        "# Create a Spark Session\n",
        "spark = SparkSession.builder.master(\"local[*]\").getOrCreate()\n",
        "# Check Spark Session Information\n",
        "spark\n",
        "# Import a Spark function from library\n",
        "from pyspark.sql.functions import col\n",
        "spark.stop()"
      ]
    },
    {
      "cell_type": "code",
      "source": [
        "from pyspark import SparkContext\n",
        "\n",
        "# create a SparkContext object (master= Cluster URL to connect to , app name=Note that in practice, you'll likely want to use a cluster manager like Apache Mesos or Apache Hadoop YARN to manage your Spark cluster )\n",
        "# Note that in practice, you'll likely want to use a cluster manager like Apache Mesos or Apache Hadoop YARN to manage your Spark cluster\n",
        "\n",
        "sc = SparkContext(\"local\", \"RDD creation example\")\n",
        "\n",
        "# create a list of integers\n",
        "data = [1, 2, 3, 4, 5]\n",
        "\n",
        "# create an RDD from the list\n",
        "rdd = sc.parallelize(data)\n",
        "\n",
        "# perform a transformation to square each element in the RDD\n",
        "squared_rdd = rdd.map(lambda x: x*x)\n",
        "\n",
        "# perform an action to print the squared values\n",
        "print(squared_rdd.collect())\n",
        "\n",
        "# stop the SparkContext\n",
        "sc.stop()\n"
      ],
      "metadata": {
        "colab": {
          "base_uri": "https://localhost:8080/"
        },
        "id": "v-UquydT9w6x",
        "outputId": "73fd9e50-e131-4b72-a522-08a3b8b08a5d"
      },
      "execution_count": null,
      "outputs": [
        {
          "output_type": "stream",
          "name": "stdout",
          "text": [
            "[1, 4, 9, 16, 25]\n"
          ]
        }
      ]
    },
    {
      "cell_type": "code",
      "source": [
        "from pyspark import SparkContext\n",
        "\n",
        "# create a SparkContext object (master= Cluster URL to connect to , app name=Note that in practice, you'll likely want to use a cluster manager like Apache Mesos or Apache Hadoop YARN to manage your Spark cluster )\n",
        "# Note that in practice, you'll likely want to use a cluster manager like Apache Mesos or Apache Hadoop YARN to manage your Spark cluster\n",
        "\n",
        "sc = SparkContext(\"local\", \"RDD creation example\")\n",
        "\n",
        "# create a list of integers\n",
        "data = [1, 2, 3, 4, 5]\n",
        "\n",
        "# create an RDD from the list\n",
        "rdd = sc.parallelize(data)"
      ],
      "metadata": {
        "id": "tgE2Tep7-LPe"
      },
      "execution_count": null,
      "outputs": []
    },
    {
      "cell_type": "code",
      "source": [
        "rdd"
      ],
      "metadata": {
        "colab": {
          "base_uri": "https://localhost:8080/"
        },
        "id": "H2U23cW4CXgM",
        "outputId": "445b0aaf-1a52-47a8-8680-1d2d71bec5d1"
      },
      "execution_count": null,
      "outputs": [
        {
          "output_type": "execute_result",
          "data": {
            "text/plain": [
              "ParallelCollectionRDD[0] at readRDDFromFile at PythonRDD.scala:274"
            ]
          },
          "metadata": {},
          "execution_count": 9
        }
      ]
    },
    {
      "cell_type": "code",
      "source": [
        "sc.stop()"
      ],
      "metadata": {
        "id": "4tNjVOY4AzGE"
      },
      "execution_count": null,
      "outputs": []
    },
    {
      "cell_type": "code",
      "source": [
        "distFile = sc.textFile(\"data.txt\")"
      ],
      "metadata": {
        "id": "s6qKMnTHDLQT"
      },
      "execution_count": null,
      "outputs": []
    },
    {
      "cell_type": "code",
      "source": [
        "distFile"
      ],
      "metadata": {
        "colab": {
          "base_uri": "https://localhost:8080/"
        },
        "id": "U2iHSVgDDZbm",
        "outputId": "cfb263a5-23bd-439a-c242-61103dca8c18"
      },
      "execution_count": null,
      "outputs": [
        {
          "output_type": "execute_result",
          "data": {
            "text/plain": [
              "data.txt MapPartitionsRDD[2] at textFile at NativeMethodAccessorImpl.java:0"
            ]
          },
          "metadata": {},
          "execution_count": 11
        }
      ]
    },
    {
      "cell_type": "code",
      "source": [
        "squared_rdd = rdd.map(lambda x: x**2)\n",
        "\n",
        "# print the transformed RDD\n",
        "print(squared_rdd.collect())"
      ],
      "metadata": {
        "colab": {
          "base_uri": "https://localhost:8080/"
        },
        "id": "0t-7YCv5Deaz",
        "outputId": "e1fbb3bd-79f6-4e95-e1a2-2a22fdf1e0e9"
      },
      "execution_count": null,
      "outputs": [
        {
          "output_type": "stream",
          "name": "stdout",
          "text": [
            "[1, 4, 9, 16, 25]\n"
          ]
        }
      ]
    },
    {
      "cell_type": "code",
      "source": [
        "odd_rdd = rdd.filter(lambda x: x % 2 != 0)\n",
        "\n",
        "# print the filtered RDD\n",
        "print(odd_rdd.collect())  "
      ],
      "metadata": {
        "colab": {
          "base_uri": "https://localhost:8080/"
        },
        "id": "395r05UwFREV",
        "outputId": "45a90ade-db90-40fc-9513-b083c9b24765"
      },
      "execution_count": null,
      "outputs": [
        {
          "output_type": "stream",
          "name": "stdout",
          "text": [
            "[1, 3, 5]\n"
          ]
        }
      ]
    },
    {
      "cell_type": "code",
      "source": [
        "sorted_rdd = rdd.sortBy(lambda x: x,ascending=False)\n",
        "sorted_rdd.collect()"
      ],
      "metadata": {
        "colab": {
          "base_uri": "https://localhost:8080/"
        },
        "id": "LmVsg87KFwBu",
        "outputId": "127f1c1b-e433-4ac3-bf28-a10551d0d6c1"
      },
      "execution_count": null,
      "outputs": [
        {
          "output_type": "execute_result",
          "data": {
            "text/plain": [
              "[5, 4, 3, 2, 1]"
            ]
          },
          "metadata": {},
          "execution_count": 16
        }
      ]
    },
    {
      "cell_type": "code",
      "source": [
        "rdd.collect()"
      ],
      "metadata": {
        "colab": {
          "base_uri": "https://localhost:8080/"
        },
        "id": "YO23O_YXIpHf",
        "outputId": "83fd3149-7a59-4a36-9094-c40be37fed29"
      },
      "execution_count": null,
      "outputs": [
        {
          "output_type": "execute_result",
          "data": {
            "text/plain": [
              "[1, 2, 3, 4, 5]"
            ]
          },
          "metadata": {},
          "execution_count": 17
        }
      ]
    },
    {
      "cell_type": "code",
      "source": [
        "rdd.count()"
      ],
      "metadata": {
        "colab": {
          "base_uri": "https://localhost:8080/"
        },
        "id": "OeVE4_Q1IygV",
        "outputId": "9e34d4aa-9c24-488a-96ca-6b29e395cc28"
      },
      "execution_count": null,
      "outputs": [
        {
          "output_type": "execute_result",
          "data": {
            "text/plain": [
              "5"
            ]
          },
          "metadata": {},
          "execution_count": 20
        }
      ]
    },
    {
      "cell_type": "code",
      "source": [
        "from operator import add\n",
        "rdd.reduce(add)"
      ],
      "metadata": {
        "colab": {
          "base_uri": "https://localhost:8080/"
        },
        "id": "cJ_InyQJLgcY",
        "outputId": "f724ba8a-4c27-46a7-a320-83076c0c7c43"
      },
      "execution_count": null,
      "outputs": [
        {
          "output_type": "execute_result",
          "data": {
            "text/plain": [
              "15"
            ]
          },
          "metadata": {},
          "execution_count": 21
        }
      ]
    },
    {
      "cell_type": "code",
      "source": [
        "from pyspark import SparkContext\n",
        "sc = SparkContext(\"local\", \"Image Url Counter\")\n"
      ],
      "metadata": {
        "id": "heS07lCL9RGR"
      },
      "execution_count": null,
      "outputs": []
    },
    {
      "cell_type": "code",
      "source": [
        "import requests"
      ],
      "metadata": {
        "id": "W_Y929nK_O7I"
      },
      "execution_count": null,
      "outputs": []
    },
    {
      "cell_type": "code",
      "source": [
        "\n",
        "html = sc.sparkContext.textFile(requests.get(url).text)"
      ],
      "metadata": {
        "colab": {
          "base_uri": "https://localhost:8080/",
          "height": 184
        },
        "id": "AI6oGQtj_2rO",
        "outputId": "3127f091-e554-4830-acbf-7c049caba218"
      },
      "execution_count": null,
      "outputs": [
        {
          "output_type": "error",
          "ename": "AttributeError",
          "evalue": "ignored",
          "traceback": [
            "\u001b[0;31m---------------------------------------------------------------------------\u001b[0m",
            "\u001b[0;31mAttributeError\u001b[0m                            Traceback (most recent call last)",
            "\u001b[0;32m<ipython-input-14-70e5c45ce408>\u001b[0m in \u001b[0;36m<module>\u001b[0;34m\u001b[0m\n\u001b[1;32m      1\u001b[0m \u001b[0murl\u001b[0m\u001b[0;34m=\u001b[0m\u001b[0;34m'http://www.cnn.com'\u001b[0m\u001b[0;34m\u001b[0m\u001b[0;34m\u001b[0m\u001b[0m\n\u001b[0;32m----> 2\u001b[0;31m \u001b[0mhtml\u001b[0m \u001b[0;34m=\u001b[0m \u001b[0msc\u001b[0m\u001b[0;34m.\u001b[0m\u001b[0msparkContext\u001b[0m\u001b[0;34m.\u001b[0m\u001b[0mtextFile\u001b[0m\u001b[0;34m(\u001b[0m\u001b[0mrequests\u001b[0m\u001b[0;34m.\u001b[0m\u001b[0mget\u001b[0m\u001b[0;34m(\u001b[0m\u001b[0murl\u001b[0m\u001b[0;34m)\u001b[0m\u001b[0;34m.\u001b[0m\u001b[0mtext\u001b[0m\u001b[0;34m)\u001b[0m\u001b[0;34m\u001b[0m\u001b[0;34m\u001b[0m\u001b[0m\n\u001b[0m",
            "\u001b[0;31mAttributeError\u001b[0m: 'SparkContext' object has no attribute 'sparkContext'"
          ]
        }
      ]
    },
    {
      "cell_type": "code",
      "source": [
        "sc.stop()"
      ],
      "metadata": {
        "id": "VLwWIRCM__cF"
      },
      "execution_count": null,
      "outputs": []
    },
    {
      "cell_type": "code",
      "source": [
        "from pyspark.sql import SparkSession\n",
        "\n",
        "# Create a SparkSession\n",
        "spark = SparkSession.builder.appName(\"Image Url Counter\").getOrCreate()\n",
        "url='http://www.cnn.com'\n",
        "html_rdd=spark.sparkContext.textFile(url)\n"
      ],
      "metadata": {
        "colab": {
          "base_uri": "https://localhost:8080/",
          "height": 346
        },
        "id": "C0878L6zBOp-",
        "outputId": "6b7c85da-de0b-43a9-9654-065bf24dc5bb"
      },
      "execution_count": null,
      "outputs": [
        {
          "output_type": "error",
          "ename": "IllegalArgumentException",
          "evalue": "ignored",
          "traceback": [
            "\u001b[0;31m---------------------------------------------------------------------------\u001b[0m",
            "\u001b[0;31mIllegalArgumentException\u001b[0m                  Traceback (most recent call last)",
            "\u001b[0;32m<ipython-input-16-43c83d4a013f>\u001b[0m in \u001b[0;36m<module>\u001b[0;34m\u001b[0m\n\u001b[1;32m      5\u001b[0m \u001b[0murl\u001b[0m\u001b[0;34m=\u001b[0m\u001b[0;34m'http://www.cnn.com'\u001b[0m\u001b[0;34m\u001b[0m\u001b[0;34m\u001b[0m\u001b[0m\n\u001b[1;32m      6\u001b[0m \u001b[0mhtml_rdd\u001b[0m\u001b[0;34m=\u001b[0m\u001b[0mspark\u001b[0m\u001b[0;34m.\u001b[0m\u001b[0msparkContext\u001b[0m\u001b[0;34m.\u001b[0m\u001b[0mtextFile\u001b[0m\u001b[0;34m(\u001b[0m\u001b[0murl\u001b[0m\u001b[0;34m)\u001b[0m\u001b[0;34m\u001b[0m\u001b[0;34m\u001b[0m\u001b[0m\n\u001b[0;32m----> 7\u001b[0;31m \u001b[0mhtml_rdd\u001b[0m\u001b[0;34m.\u001b[0m\u001b[0mcollect\u001b[0m\u001b[0;34m(\u001b[0m\u001b[0;34m)\u001b[0m\u001b[0;34m\u001b[0m\u001b[0;34m\u001b[0m\u001b[0m\n\u001b[0m",
            "\u001b[0;32m/usr/local/lib/python3.9/dist-packages/pyspark/rdd.py\u001b[0m in \u001b[0;36mcollect\u001b[0;34m(self)\u001b[0m\n\u001b[1;32m   1195\u001b[0m         \u001b[0;32mwith\u001b[0m \u001b[0mSCCallSiteSync\u001b[0m\u001b[0;34m(\u001b[0m\u001b[0mself\u001b[0m\u001b[0;34m.\u001b[0m\u001b[0mcontext\u001b[0m\u001b[0;34m)\u001b[0m\u001b[0;34m:\u001b[0m\u001b[0;34m\u001b[0m\u001b[0;34m\u001b[0m\u001b[0m\n\u001b[1;32m   1196\u001b[0m             \u001b[0;32massert\u001b[0m \u001b[0mself\u001b[0m\u001b[0;34m.\u001b[0m\u001b[0mctx\u001b[0m\u001b[0;34m.\u001b[0m\u001b[0m_jvm\u001b[0m \u001b[0;32mis\u001b[0m \u001b[0;32mnot\u001b[0m \u001b[0;32mNone\u001b[0m\u001b[0;34m\u001b[0m\u001b[0;34m\u001b[0m\u001b[0m\n\u001b[0;32m-> 1197\u001b[0;31m             \u001b[0msock_info\u001b[0m \u001b[0;34m=\u001b[0m \u001b[0mself\u001b[0m\u001b[0;34m.\u001b[0m\u001b[0mctx\u001b[0m\u001b[0;34m.\u001b[0m\u001b[0m_jvm\u001b[0m\u001b[0;34m.\u001b[0m\u001b[0mPythonRDD\u001b[0m\u001b[0;34m.\u001b[0m\u001b[0mcollectAndServe\u001b[0m\u001b[0;34m(\u001b[0m\u001b[0mself\u001b[0m\u001b[0;34m.\u001b[0m\u001b[0m_jrdd\u001b[0m\u001b[0;34m.\u001b[0m\u001b[0mrdd\u001b[0m\u001b[0;34m(\u001b[0m\u001b[0;34m)\u001b[0m\u001b[0;34m)\u001b[0m\u001b[0;34m\u001b[0m\u001b[0;34m\u001b[0m\u001b[0m\n\u001b[0m\u001b[1;32m   1198\u001b[0m         \u001b[0;32mreturn\u001b[0m \u001b[0mlist\u001b[0m\u001b[0;34m(\u001b[0m\u001b[0m_load_from_socket\u001b[0m\u001b[0;34m(\u001b[0m\u001b[0msock_info\u001b[0m\u001b[0;34m,\u001b[0m \u001b[0mself\u001b[0m\u001b[0;34m.\u001b[0m\u001b[0m_jrdd_deserializer\u001b[0m\u001b[0;34m)\u001b[0m\u001b[0;34m)\u001b[0m\u001b[0;34m\u001b[0m\u001b[0;34m\u001b[0m\u001b[0m\n\u001b[1;32m   1199\u001b[0m \u001b[0;34m\u001b[0m\u001b[0m\n",
            "\u001b[0;32m/usr/local/lib/python3.9/dist-packages/py4j/java_gateway.py\u001b[0m in \u001b[0;36m__call__\u001b[0;34m(self, *args)\u001b[0m\n\u001b[1;32m   1319\u001b[0m \u001b[0;34m\u001b[0m\u001b[0m\n\u001b[1;32m   1320\u001b[0m         \u001b[0manswer\u001b[0m \u001b[0;34m=\u001b[0m \u001b[0mself\u001b[0m\u001b[0;34m.\u001b[0m\u001b[0mgateway_client\u001b[0m\u001b[0;34m.\u001b[0m\u001b[0msend_command\u001b[0m\u001b[0;34m(\u001b[0m\u001b[0mcommand\u001b[0m\u001b[0;34m)\u001b[0m\u001b[0;34m\u001b[0m\u001b[0;34m\u001b[0m\u001b[0m\n\u001b[0;32m-> 1321\u001b[0;31m         return_value = get_return_value(\n\u001b[0m\u001b[1;32m   1322\u001b[0m             answer, self.gateway_client, self.target_id, self.name)\n\u001b[1;32m   1323\u001b[0m \u001b[0;34m\u001b[0m\u001b[0m\n",
            "\u001b[0;32m/usr/local/lib/python3.9/dist-packages/pyspark/sql/utils.py\u001b[0m in \u001b[0;36mdeco\u001b[0;34m(*a, **kw)\u001b[0m\n\u001b[1;32m    194\u001b[0m                 \u001b[0;31m# Hide where the exception came from that shows a non-Pythonic\u001b[0m\u001b[0;34m\u001b[0m\u001b[0;34m\u001b[0m\u001b[0m\n\u001b[1;32m    195\u001b[0m                 \u001b[0;31m# JVM exception message.\u001b[0m\u001b[0;34m\u001b[0m\u001b[0;34m\u001b[0m\u001b[0m\n\u001b[0;32m--> 196\u001b[0;31m                 \u001b[0;32mraise\u001b[0m \u001b[0mconverted\u001b[0m \u001b[0;32mfrom\u001b[0m \u001b[0;32mNone\u001b[0m\u001b[0;34m\u001b[0m\u001b[0;34m\u001b[0m\u001b[0m\n\u001b[0m\u001b[1;32m    197\u001b[0m             \u001b[0;32melse\u001b[0m\u001b[0;34m:\u001b[0m\u001b[0;34m\u001b[0m\u001b[0;34m\u001b[0m\u001b[0m\n\u001b[1;32m    198\u001b[0m                 \u001b[0;32mraise\u001b[0m\u001b[0;34m\u001b[0m\u001b[0;34m\u001b[0m\u001b[0m\n",
            "\u001b[0;31mIllegalArgumentException\u001b[0m: Invalid start or len parameter"
          ]
        }
      ]
    },
    {
      "cell_type": "code",
      "source": [
        "html_rdd"
      ],
      "metadata": {
        "colab": {
          "base_uri": "https://localhost:8080/"
        },
        "id": "ptEJ42GgCFT4",
        "outputId": "100060e6-f00e-4054-98d6-e9013702fcfd"
      },
      "execution_count": null,
      "outputs": [
        {
          "output_type": "execute_result",
          "data": {
            "text/plain": [
              "http://www.cnn.com MapPartitionsRDD[1] at textFile at NativeMethodAccessorImpl.java:0"
            ]
          },
          "metadata": {},
          "execution_count": 17
        }
      ]
    },
    {
      "cell_type": "code",
      "source": [
        "import re\n",
        "img_urls = html_rdd.filter(lambda line: re.search('<img.*?src=\"(.*?)\".*?>', line))\n",
        "num_imgs = img_urls.count()"
      ],
      "metadata": {
        "colab": {
          "base_uri": "https://localhost:8080/",
          "height": 346
        },
        "id": "rKosOid3CNp9",
        "outputId": "557da3fa-d6af-477d-fe81-89283e5424cb"
      },
      "execution_count": null,
      "outputs": [
        {
          "output_type": "error",
          "ename": "IllegalArgumentException",
          "evalue": "ignored",
          "traceback": [
            "\u001b[0;31m---------------------------------------------------------------------------\u001b[0m",
            "\u001b[0;31mIllegalArgumentException\u001b[0m                  Traceback (most recent call last)",
            "\u001b[0;32m<ipython-input-19-591c7a8688a2>\u001b[0m in \u001b[0;36m<module>\u001b[0;34m\u001b[0m\n\u001b[1;32m      1\u001b[0m \u001b[0;32mimport\u001b[0m \u001b[0mre\u001b[0m\u001b[0;34m\u001b[0m\u001b[0;34m\u001b[0m\u001b[0m\n\u001b[1;32m      2\u001b[0m \u001b[0mimg_urls\u001b[0m \u001b[0;34m=\u001b[0m \u001b[0mhtml_rdd\u001b[0m\u001b[0;34m.\u001b[0m\u001b[0mfilter\u001b[0m\u001b[0;34m(\u001b[0m\u001b[0;32mlambda\u001b[0m \u001b[0mline\u001b[0m\u001b[0;34m:\u001b[0m \u001b[0mre\u001b[0m\u001b[0;34m.\u001b[0m\u001b[0msearch\u001b[0m\u001b[0;34m(\u001b[0m\u001b[0;34m'<img.*?src=\"(.*?)\".*?>'\u001b[0m\u001b[0;34m,\u001b[0m \u001b[0mline\u001b[0m\u001b[0;34m)\u001b[0m\u001b[0;34m)\u001b[0m\u001b[0;34m\u001b[0m\u001b[0;34m\u001b[0m\u001b[0m\n\u001b[0;32m----> 3\u001b[0;31m \u001b[0mnum_imgs\u001b[0m \u001b[0;34m=\u001b[0m \u001b[0mimg_urls\u001b[0m\u001b[0;34m.\u001b[0m\u001b[0mcount\u001b[0m\u001b[0;34m(\u001b[0m\u001b[0;34m)\u001b[0m\u001b[0;34m\u001b[0m\u001b[0;34m\u001b[0m\u001b[0m\n\u001b[0m",
            "\u001b[0;32m/usr/local/lib/python3.9/dist-packages/pyspark/rdd.py\u001b[0m in \u001b[0;36mcount\u001b[0;34m(self)\u001b[0m\n\u001b[1;32m   1519\u001b[0m         \u001b[0;36m3\u001b[0m\u001b[0;34m\u001b[0m\u001b[0;34m\u001b[0m\u001b[0m\n\u001b[1;32m   1520\u001b[0m         \"\"\"\n\u001b[0;32m-> 1521\u001b[0;31m         \u001b[0;32mreturn\u001b[0m \u001b[0mself\u001b[0m\u001b[0;34m.\u001b[0m\u001b[0mmapPartitions\u001b[0m\u001b[0;34m(\u001b[0m\u001b[0;32mlambda\u001b[0m \u001b[0mi\u001b[0m\u001b[0;34m:\u001b[0m \u001b[0;34m[\u001b[0m\u001b[0msum\u001b[0m\u001b[0;34m(\u001b[0m\u001b[0;36m1\u001b[0m \u001b[0;32mfor\u001b[0m \u001b[0m_\u001b[0m \u001b[0;32min\u001b[0m \u001b[0mi\u001b[0m\u001b[0;34m)\u001b[0m\u001b[0;34m]\u001b[0m\u001b[0;34m)\u001b[0m\u001b[0;34m.\u001b[0m\u001b[0msum\u001b[0m\u001b[0;34m(\u001b[0m\u001b[0;34m)\u001b[0m\u001b[0;34m\u001b[0m\u001b[0;34m\u001b[0m\u001b[0m\n\u001b[0m\u001b[1;32m   1522\u001b[0m \u001b[0;34m\u001b[0m\u001b[0m\n\u001b[1;32m   1523\u001b[0m     \u001b[0;32mdef\u001b[0m \u001b[0mstats\u001b[0m\u001b[0;34m(\u001b[0m\u001b[0mself\u001b[0m\u001b[0;34m:\u001b[0m \u001b[0;34m\"RDD[NumberOrArray]\"\u001b[0m\u001b[0;34m)\u001b[0m \u001b[0;34m->\u001b[0m \u001b[0mStatCounter\u001b[0m\u001b[0;34m:\u001b[0m\u001b[0;34m\u001b[0m\u001b[0;34m\u001b[0m\u001b[0m\n",
            "\u001b[0;32m/usr/local/lib/python3.9/dist-packages/pyspark/rdd.py\u001b[0m in \u001b[0;36msum\u001b[0;34m(self)\u001b[0m\n\u001b[1;32m   1506\u001b[0m         \u001b[0;36m6.0\u001b[0m\u001b[0;34m\u001b[0m\u001b[0;34m\u001b[0m\u001b[0m\n\u001b[1;32m   1507\u001b[0m         \"\"\"\n\u001b[0;32m-> 1508\u001b[0;31m         return self.mapPartitions(lambda x: [sum(x)]).fold(  # type: ignore[return-value]\n\u001b[0m\u001b[1;32m   1509\u001b[0m             \u001b[0;36m0\u001b[0m\u001b[0;34m,\u001b[0m \u001b[0moperator\u001b[0m\u001b[0;34m.\u001b[0m\u001b[0madd\u001b[0m\u001b[0;34m\u001b[0m\u001b[0;34m\u001b[0m\u001b[0m\n\u001b[1;32m   1510\u001b[0m         )\n",
            "\u001b[0;32m/usr/local/lib/python3.9/dist-packages/pyspark/rdd.py\u001b[0m in \u001b[0;36mfold\u001b[0;34m(self, zeroValue, op)\u001b[0m\n\u001b[1;32m   1334\u001b[0m         \u001b[0;31m# zeroValue provided to each partition is unique from the one provided\u001b[0m\u001b[0;34m\u001b[0m\u001b[0;34m\u001b[0m\u001b[0m\n\u001b[1;32m   1335\u001b[0m         \u001b[0;31m# to the final reduce call\u001b[0m\u001b[0;34m\u001b[0m\u001b[0;34m\u001b[0m\u001b[0m\n\u001b[0;32m-> 1336\u001b[0;31m         \u001b[0mvals\u001b[0m \u001b[0;34m=\u001b[0m \u001b[0mself\u001b[0m\u001b[0;34m.\u001b[0m\u001b[0mmapPartitions\u001b[0m\u001b[0;34m(\u001b[0m\u001b[0mfunc\u001b[0m\u001b[0;34m)\u001b[0m\u001b[0;34m.\u001b[0m\u001b[0mcollect\u001b[0m\u001b[0;34m(\u001b[0m\u001b[0;34m)\u001b[0m\u001b[0;34m\u001b[0m\u001b[0;34m\u001b[0m\u001b[0m\n\u001b[0m\u001b[1;32m   1337\u001b[0m         \u001b[0;32mreturn\u001b[0m \u001b[0mreduce\u001b[0m\u001b[0;34m(\u001b[0m\u001b[0mop\u001b[0m\u001b[0;34m,\u001b[0m \u001b[0mvals\u001b[0m\u001b[0;34m,\u001b[0m \u001b[0mzeroValue\u001b[0m\u001b[0;34m)\u001b[0m\u001b[0;34m\u001b[0m\u001b[0;34m\u001b[0m\u001b[0m\n\u001b[1;32m   1338\u001b[0m \u001b[0;34m\u001b[0m\u001b[0m\n",
            "\u001b[0;32m/usr/local/lib/python3.9/dist-packages/pyspark/rdd.py\u001b[0m in \u001b[0;36mcollect\u001b[0;34m(self)\u001b[0m\n\u001b[1;32m   1195\u001b[0m         \u001b[0;32mwith\u001b[0m \u001b[0mSCCallSiteSync\u001b[0m\u001b[0;34m(\u001b[0m\u001b[0mself\u001b[0m\u001b[0;34m.\u001b[0m\u001b[0mcontext\u001b[0m\u001b[0;34m)\u001b[0m\u001b[0;34m:\u001b[0m\u001b[0;34m\u001b[0m\u001b[0;34m\u001b[0m\u001b[0m\n\u001b[1;32m   1196\u001b[0m             \u001b[0;32massert\u001b[0m \u001b[0mself\u001b[0m\u001b[0;34m.\u001b[0m\u001b[0mctx\u001b[0m\u001b[0;34m.\u001b[0m\u001b[0m_jvm\u001b[0m \u001b[0;32mis\u001b[0m \u001b[0;32mnot\u001b[0m \u001b[0;32mNone\u001b[0m\u001b[0;34m\u001b[0m\u001b[0;34m\u001b[0m\u001b[0m\n\u001b[0;32m-> 1197\u001b[0;31m             \u001b[0msock_info\u001b[0m \u001b[0;34m=\u001b[0m \u001b[0mself\u001b[0m\u001b[0;34m.\u001b[0m\u001b[0mctx\u001b[0m\u001b[0;34m.\u001b[0m\u001b[0m_jvm\u001b[0m\u001b[0;34m.\u001b[0m\u001b[0mPythonRDD\u001b[0m\u001b[0;34m.\u001b[0m\u001b[0mcollectAndServe\u001b[0m\u001b[0;34m(\u001b[0m\u001b[0mself\u001b[0m\u001b[0;34m.\u001b[0m\u001b[0m_jrdd\u001b[0m\u001b[0;34m.\u001b[0m\u001b[0mrdd\u001b[0m\u001b[0;34m(\u001b[0m\u001b[0;34m)\u001b[0m\u001b[0;34m)\u001b[0m\u001b[0;34m\u001b[0m\u001b[0;34m\u001b[0m\u001b[0m\n\u001b[0m\u001b[1;32m   1198\u001b[0m         \u001b[0;32mreturn\u001b[0m \u001b[0mlist\u001b[0m\u001b[0;34m(\u001b[0m\u001b[0m_load_from_socket\u001b[0m\u001b[0;34m(\u001b[0m\u001b[0msock_info\u001b[0m\u001b[0;34m,\u001b[0m \u001b[0mself\u001b[0m\u001b[0;34m.\u001b[0m\u001b[0m_jrdd_deserializer\u001b[0m\u001b[0;34m)\u001b[0m\u001b[0;34m)\u001b[0m\u001b[0;34m\u001b[0m\u001b[0;34m\u001b[0m\u001b[0m\n\u001b[1;32m   1199\u001b[0m \u001b[0;34m\u001b[0m\u001b[0m\n",
            "\u001b[0;32m/usr/local/lib/python3.9/dist-packages/py4j/java_gateway.py\u001b[0m in \u001b[0;36m__call__\u001b[0;34m(self, *args)\u001b[0m\n\u001b[1;32m   1319\u001b[0m \u001b[0;34m\u001b[0m\u001b[0m\n\u001b[1;32m   1320\u001b[0m         \u001b[0manswer\u001b[0m \u001b[0;34m=\u001b[0m \u001b[0mself\u001b[0m\u001b[0;34m.\u001b[0m\u001b[0mgateway_client\u001b[0m\u001b[0;34m.\u001b[0m\u001b[0msend_command\u001b[0m\u001b[0;34m(\u001b[0m\u001b[0mcommand\u001b[0m\u001b[0;34m)\u001b[0m\u001b[0;34m\u001b[0m\u001b[0;34m\u001b[0m\u001b[0m\n\u001b[0;32m-> 1321\u001b[0;31m         return_value = get_return_value(\n\u001b[0m\u001b[1;32m   1322\u001b[0m             answer, self.gateway_client, self.target_id, self.name)\n\u001b[1;32m   1323\u001b[0m \u001b[0;34m\u001b[0m\u001b[0m\n",
            "\u001b[0;32m/usr/local/lib/python3.9/dist-packages/pyspark/sql/utils.py\u001b[0m in \u001b[0;36mdeco\u001b[0;34m(*a, **kw)\u001b[0m\n\u001b[1;32m    194\u001b[0m                 \u001b[0;31m# Hide where the exception came from that shows a non-Pythonic\u001b[0m\u001b[0;34m\u001b[0m\u001b[0;34m\u001b[0m\u001b[0m\n\u001b[1;32m    195\u001b[0m                 \u001b[0;31m# JVM exception message.\u001b[0m\u001b[0;34m\u001b[0m\u001b[0;34m\u001b[0m\u001b[0m\n\u001b[0;32m--> 196\u001b[0;31m                 \u001b[0;32mraise\u001b[0m \u001b[0mconverted\u001b[0m \u001b[0;32mfrom\u001b[0m \u001b[0;32mNone\u001b[0m\u001b[0;34m\u001b[0m\u001b[0;34m\u001b[0m\u001b[0m\n\u001b[0m\u001b[1;32m    197\u001b[0m             \u001b[0;32melse\u001b[0m\u001b[0;34m:\u001b[0m\u001b[0;34m\u001b[0m\u001b[0;34m\u001b[0m\u001b[0m\n\u001b[1;32m    198\u001b[0m                 \u001b[0;32mraise\u001b[0m\u001b[0;34m\u001b[0m\u001b[0;34m\u001b[0m\u001b[0m\n",
            "\u001b[0;31mIllegalArgumentException\u001b[0m: Invalid start or len parameter"
          ]
        }
      ]
    },
    {
      "cell_type": "code",
      "source": [
        "img_urls.collect()"
      ],
      "metadata": {
        "colab": {
          "base_uri": "https://localhost:8080/",
          "height": 312
        },
        "id": "Brys0LG4CePN",
        "outputId": "644b48b6-d717-4c3f-bccd-0b79858596b1"
      },
      "execution_count": null,
      "outputs": [
        {
          "output_type": "error",
          "ename": "IllegalArgumentException",
          "evalue": "ignored",
          "traceback": [
            "\u001b[0;31m---------------------------------------------------------------------------\u001b[0m",
            "\u001b[0;31mIllegalArgumentException\u001b[0m                  Traceback (most recent call last)",
            "\u001b[0;32m<ipython-input-21-bef22cfea5b5>\u001b[0m in \u001b[0;36m<module>\u001b[0;34m\u001b[0m\n\u001b[0;32m----> 1\u001b[0;31m \u001b[0mimg_urls\u001b[0m\u001b[0;34m.\u001b[0m\u001b[0mcollect\u001b[0m\u001b[0;34m(\u001b[0m\u001b[0;34m)\u001b[0m\u001b[0;34m\u001b[0m\u001b[0;34m\u001b[0m\u001b[0m\n\u001b[0m",
            "\u001b[0;32m/usr/local/lib/python3.9/dist-packages/pyspark/rdd.py\u001b[0m in \u001b[0;36mcollect\u001b[0;34m(self)\u001b[0m\n\u001b[1;32m   1195\u001b[0m         \u001b[0;32mwith\u001b[0m \u001b[0mSCCallSiteSync\u001b[0m\u001b[0;34m(\u001b[0m\u001b[0mself\u001b[0m\u001b[0;34m.\u001b[0m\u001b[0mcontext\u001b[0m\u001b[0;34m)\u001b[0m\u001b[0;34m:\u001b[0m\u001b[0;34m\u001b[0m\u001b[0;34m\u001b[0m\u001b[0m\n\u001b[1;32m   1196\u001b[0m             \u001b[0;32massert\u001b[0m \u001b[0mself\u001b[0m\u001b[0;34m.\u001b[0m\u001b[0mctx\u001b[0m\u001b[0;34m.\u001b[0m\u001b[0m_jvm\u001b[0m \u001b[0;32mis\u001b[0m \u001b[0;32mnot\u001b[0m \u001b[0;32mNone\u001b[0m\u001b[0;34m\u001b[0m\u001b[0;34m\u001b[0m\u001b[0m\n\u001b[0;32m-> 1197\u001b[0;31m             \u001b[0msock_info\u001b[0m \u001b[0;34m=\u001b[0m \u001b[0mself\u001b[0m\u001b[0;34m.\u001b[0m\u001b[0mctx\u001b[0m\u001b[0;34m.\u001b[0m\u001b[0m_jvm\u001b[0m\u001b[0;34m.\u001b[0m\u001b[0mPythonRDD\u001b[0m\u001b[0;34m.\u001b[0m\u001b[0mcollectAndServe\u001b[0m\u001b[0;34m(\u001b[0m\u001b[0mself\u001b[0m\u001b[0;34m.\u001b[0m\u001b[0m_jrdd\u001b[0m\u001b[0;34m.\u001b[0m\u001b[0mrdd\u001b[0m\u001b[0;34m(\u001b[0m\u001b[0;34m)\u001b[0m\u001b[0;34m)\u001b[0m\u001b[0;34m\u001b[0m\u001b[0;34m\u001b[0m\u001b[0m\n\u001b[0m\u001b[1;32m   1198\u001b[0m         \u001b[0;32mreturn\u001b[0m \u001b[0mlist\u001b[0m\u001b[0;34m(\u001b[0m\u001b[0m_load_from_socket\u001b[0m\u001b[0;34m(\u001b[0m\u001b[0msock_info\u001b[0m\u001b[0;34m,\u001b[0m \u001b[0mself\u001b[0m\u001b[0;34m.\u001b[0m\u001b[0m_jrdd_deserializer\u001b[0m\u001b[0;34m)\u001b[0m\u001b[0;34m)\u001b[0m\u001b[0;34m\u001b[0m\u001b[0;34m\u001b[0m\u001b[0m\n\u001b[1;32m   1199\u001b[0m \u001b[0;34m\u001b[0m\u001b[0m\n",
            "\u001b[0;32m/usr/local/lib/python3.9/dist-packages/py4j/java_gateway.py\u001b[0m in \u001b[0;36m__call__\u001b[0;34m(self, *args)\u001b[0m\n\u001b[1;32m   1319\u001b[0m \u001b[0;34m\u001b[0m\u001b[0m\n\u001b[1;32m   1320\u001b[0m         \u001b[0manswer\u001b[0m \u001b[0;34m=\u001b[0m \u001b[0mself\u001b[0m\u001b[0;34m.\u001b[0m\u001b[0mgateway_client\u001b[0m\u001b[0;34m.\u001b[0m\u001b[0msend_command\u001b[0m\u001b[0;34m(\u001b[0m\u001b[0mcommand\u001b[0m\u001b[0;34m)\u001b[0m\u001b[0;34m\u001b[0m\u001b[0;34m\u001b[0m\u001b[0m\n\u001b[0;32m-> 1321\u001b[0;31m         return_value = get_return_value(\n\u001b[0m\u001b[1;32m   1322\u001b[0m             answer, self.gateway_client, self.target_id, self.name)\n\u001b[1;32m   1323\u001b[0m \u001b[0;34m\u001b[0m\u001b[0m\n",
            "\u001b[0;32m/usr/local/lib/python3.9/dist-packages/pyspark/sql/utils.py\u001b[0m in \u001b[0;36mdeco\u001b[0;34m(*a, **kw)\u001b[0m\n\u001b[1;32m    194\u001b[0m                 \u001b[0;31m# Hide where the exception came from that shows a non-Pythonic\u001b[0m\u001b[0;34m\u001b[0m\u001b[0;34m\u001b[0m\u001b[0m\n\u001b[1;32m    195\u001b[0m                 \u001b[0;31m# JVM exception message.\u001b[0m\u001b[0;34m\u001b[0m\u001b[0;34m\u001b[0m\u001b[0m\n\u001b[0;32m--> 196\u001b[0;31m                 \u001b[0;32mraise\u001b[0m \u001b[0mconverted\u001b[0m \u001b[0;32mfrom\u001b[0m \u001b[0;32mNone\u001b[0m\u001b[0;34m\u001b[0m\u001b[0;34m\u001b[0m\u001b[0m\n\u001b[0m\u001b[1;32m    197\u001b[0m             \u001b[0;32melse\u001b[0m\u001b[0;34m:\u001b[0m\u001b[0;34m\u001b[0m\u001b[0;34m\u001b[0m\u001b[0m\n\u001b[1;32m    198\u001b[0m                 \u001b[0;32mraise\u001b[0m\u001b[0;34m\u001b[0m\u001b[0;34m\u001b[0m\u001b[0m\n",
            "\u001b[0;31mIllegalArgumentException\u001b[0m: Invalid start or len parameter"
          ]
        }
      ]
    },
    {
      "cell_type": "code",
      "source": [
        "spark.stop()"
      ],
      "metadata": {
        "id": "N42Mbnl9Clv9"
      },
      "execution_count": null,
      "outputs": []
    },
    {
      "cell_type": "code",
      "source": [
        "sc = SparkContext.getOrCreate()\n",
        "url = \"http://www.cnn.com\"\n",
        "html = requests.get(url).text\n",
        "rdd = sc.parallelize([html])"
      ],
      "metadata": {
        "id": "aD_XpOSqC5dx"
      },
      "execution_count": null,
      "outputs": []
    },
    {
      "cell_type": "code",
      "source": [
        "img_urls = rdd.filter(lambda line: re.search('<img.*src=\"*\"*>', line))\n",
        "num_imgs = img_urls.count()"
      ],
      "metadata": {
        "colab": {
          "base_uri": "https://localhost:8080/",
          "height": 184
        },
        "id": "kHvJYhk3C_lG",
        "outputId": "87b2e597-b583-413a-d275-6ad908ad517f"
      },
      "execution_count": null,
      "outputs": [
        {
          "output_type": "error",
          "ename": "AttributeError",
          "evalue": "ignored",
          "traceback": [
            "\u001b[0;31m---------------------------------------------------------------------------\u001b[0m",
            "\u001b[0;31mAttributeError\u001b[0m                            Traceback (most recent call last)",
            "\u001b[0;32m<ipython-input-34-fec17a299d6f>\u001b[0m in \u001b[0;36m<module>\u001b[0;34m\u001b[0m\n\u001b[0;32m----> 1\u001b[0;31m \u001b[0mimg_urls\u001b[0m \u001b[0;34m=\u001b[0m \u001b[0mrdd\u001b[0m\u001b[0;34m.\u001b[0m\u001b[0mcollect\u001b[0m\u001b[0;34m(\u001b[0m\u001b[0;34m)\u001b[0m\u001b[0;34m[\u001b[0m\u001b[0;36m0\u001b[0m\u001b[0;34m]\u001b[0m\u001b[0;34m.\u001b[0m\u001b[0mfilter\u001b[0m\u001b[0;34m(\u001b[0m\u001b[0;32mlambda\u001b[0m \u001b[0mline\u001b[0m\u001b[0;34m:\u001b[0m \u001b[0mre\u001b[0m\u001b[0;34m.\u001b[0m\u001b[0msearch\u001b[0m\u001b[0;34m(\u001b[0m\u001b[0;34m'<img.*src=\"*\"*>'\u001b[0m\u001b[0;34m,\u001b[0m \u001b[0mline\u001b[0m\u001b[0;34m)\u001b[0m\u001b[0;34m)\u001b[0m\u001b[0;34m\u001b[0m\u001b[0;34m\u001b[0m\u001b[0m\n\u001b[0m\u001b[1;32m      2\u001b[0m \u001b[0mnum_imgs\u001b[0m \u001b[0;34m=\u001b[0m \u001b[0mimg_urls\u001b[0m\u001b[0;34m.\u001b[0m\u001b[0mcount\u001b[0m\u001b[0;34m(\u001b[0m\u001b[0;34m)\u001b[0m\u001b[0;34m\u001b[0m\u001b[0;34m\u001b[0m\u001b[0m\n",
            "\u001b[0;31mAttributeError\u001b[0m: 'str' object has no attribute 'filter'"
          ]
        }
      ]
    },
    {
      "cell_type": "code",
      "source": [
        "num_imgs"
      ],
      "metadata": {
        "colab": {
          "base_uri": "https://localhost:8080/"
        },
        "id": "q9B5VPBVDBa0",
        "outputId": "023dd19d-9424-4edf-c3e4-72fc3257c14b"
      },
      "execution_count": null,
      "outputs": [
        {
          "output_type": "execute_result",
          "data": {
            "text/plain": [
              "0"
            ]
          },
          "metadata": {},
          "execution_count": 33
        }
      ]
    },
    {
      "cell_type": "code",
      "source": [
        "sc.stop()"
      ],
      "metadata": {
        "id": "bSRj3eyAFfyb"
      },
      "execution_count": null,
      "outputs": []
    },
    {
      "cell_type": "code",
      "source": [
        "import re\n",
        "import requests\n",
        "from pyspark.sql import SparkSession\n",
        "\n",
        "# creating a SparkSession\n",
        "spark = SparkSession.builder.appName(\"CountImages\").getOrCreate()\n",
        "\n",
        "# fetching the HTML content of the URL\n",
        "url = \"https://www.mopar.com/en-us.html\"\n",
        "html_content = requests.get(url).text\n",
        "\n",
        "# creating an RDD from the HTML content\n",
        "html_rdd = spark.sparkContext.parallelize(html_content.splitlines())\n",
        "\n",
        "# finding the lines that contain image URLs\n",
        "img_regex = '<img.*>'\n",
        "img_urls = html_rdd.filter(lambda line: re.search(img_regex, line))\n",
        "\n",
        "# counting the number of image URLs\n",
        "num_imgs = img_urls.count()\n",
        "\n",
        "print(f\"Total number of Images in the url are {num_imgs}\")\n",
        "print(\"The images are:\")\n",
        "for img_url in enumerate(img_urls.collect(),1):\n",
        "    print(img_url[0],img_url[1].strip())"
      ],
      "metadata": {
        "colab": {
          "base_uri": "https://localhost:8080/"
        },
        "id": "A_4Et0MFGKpU",
        "outputId": "e5eb62fd-6f5b-41f1-c468-8389d57b13f9"
      },
      "execution_count": null,
      "outputs": [
        {
          "output_type": "stream",
          "name": "stdout",
          "text": [
            "Total number of Images in the url are 28\n",
            "The images are:\n",
            "1 <img style=\"width: 90%;\" src=\"/content/dam/mopar/images/direct_connection_logo.png\" alt=\"direct_connection_logo\">\n",
            "2 <a href=\"/en-us.html\" data-track-event=\"cta--nav\"><img src=\"/content/dam/mopar/images/header/logos/mopar_logo.png\" alt=\"Mopar at your service logo.\"></a>\n",
            "3 <a href=\"/en-us.html\" data-track-event=\"cta--nav\"><img src=\"/content/dam/mopar/images/header/logos/header_mopar_logo_text.png\" alt=\"Mopar at your service logo.\"></a>\n",
            "4 <a href=\"/en-us.html\" data-track-event=\"cta--nav\"><img src=\"/content/dam/mopar/images/header/logos/mopar_logo.png\" alt=\"Mopar at your service logo.\"></a>\n",
            "5 <a href=\"/en-us.html\" data-track-event=\"cta--nav\"><img src=\"/content/dam/mopar/images/header/logos/header_mopar_logo_text.png\" alt=\"Mopar at your service logo.\"></a>\n",
            "6 <img src=\"/content/dam/mopar/HomePage/Desktop/hero/newhero/mopar_hp_hero_lrg@2x.jpg\" srcset=\"/content/dam/mopar/HomePage/Desktop/hero/newhero/mopar_hp_hero_lrg@2x.jpg\" alt/>\n",
            "7 <img src=\"/content/dam/mopar/HomePage/blogs/Green_Car_lrg@2x.jpg\" srcset=\"/content/dam/mopar/HomePage/blogs/Green_Car_lrg@2x.jpg\" alt/>\n",
            "8 <img src=\"/content/dam/mopar/HomePage/Desktop/hero/mopar_hp_hero_estore_promo_lrg@2x.jpg\" srcset=\"/content/dam/mopar/HomePage/Desktop/hero/mopar_hp_hero_estore_promo_lrg@2x.jpg\" alt=\"A mother and child looking at a laptop screen displaying the Mopar dashboard for a 2021 Chrysler 300.\"/>\n",
            "9 <img src=\"/content/dam/mopar/HomePage/Desktop/hero/newhero/mopar_hp_hero_lrg@2x.jpg\" srcset=\"/content/dam/mopar/HomePage/Desktop/hero/newhero/mopar_hp_hero_lrg@2x.jpg\" alt class=\"non-auth\"/>\n",
            "10 <img src=\"/content/dam/mopar/HomePage/blogs/Green_Car_lrg@2x.jpg\" srcset=\"/content/dam/mopar/HomePage/blogs/Green_Car_lrg@2x.jpg\" alt class=\"non-auth\"/>\n",
            "11 <img src=\"/content/dam/mopar/HomePage/Desktop/Hero2_Mopar_lrg@2x.jpg\" srcset=\"/content/dam/mopar/HomePage/Desktop/Hero2_Mopar_lrg@2x.jpg\" alt=\"Mopar&lt;sub>®&lt;/sub>, Your Way.\" class=\"non-auth\"/>\n",
            "12 <img src=\"/content/dam/mopar/HomePage/Desktop/Tile_Mopar_ScheduleService_Desktop_460x283@2x.jpg\" alt=\"\" loading=\"lazy\"/>\n",
            "13 <img src=\"/content/dam/mopar/HomePage/Desktop/Tile_Mopar_Uconnect_Desktop_460x283.jpg\" alt=\"\" loading=\"lazy\"/>\n",
            "14 <img src=\"/content/dam/mopar/HomePage/Desktop/Tile_Mopar_Bluetooth_Desktop_460x283.jpg\" alt=\"\" loading=\"lazy\"/>\n",
            "15 <img src=\"/content/dam/mopar/HomePage/Desktop/Tile_Mopar_OwnersManual_Desktop_460x283.jpg\" alt=\"\" loading=\"lazy\"/>\n",
            "16 <img src=\"/content/dam/mopar/HomePage/Desktop/Tile_Mopar_Warranty_Desktop_460x283.jpg\" alt=\"\" loading=\"lazy\"/>\n",
            "17 <img src=\"/content/dam/mopar/HomePage/Desktop/Tile_Mopar_Offers_Desktop_460x283.jpg\" alt=\"Buy 3 Tires and Get the 4th for 1 dollar\" loading=\"lazy\"/>\n",
            "18 <img class=\"tile-logo\" loading=\"lazy\"/>\n",
            "19 <img src=\"/content/dam/mopar/HomePage/Desktop/Tile_Mopar_Accessories_Desktop_695x283.jpg\" alt=\"A top-down view of several vehicles outfitted with roof racks to carry bicycles, kayaks, skis and luggage.\" loading=\"lazy\"/>\n",
            "20 <img src=\"/content/dam/mopar/HomePage/Desktop/Tile_Mopar_Parts_Desktop695x283%20@2x.png\" alt=\"\" loading=\"lazy\"/>\n",
            "21 <img src=\"/content/dam/mopar/HomePage/Desktop/DC_homepage_tile.jpg\" alt=\"\" loading=\"lazy\"/>\n",
            "22 <img src=\"/content/dam/mopar/HomePage/Desktop/merch-dec/merch-tile.jpg\" alt=\"\" loading=\"lazy\"/>\n",
            "23 <img src=\"/content/dam/mopar/HomePage/Desktop/promo_tile_oil.jpg\" alt=\"\" loading=\"lazy\"/>\n",
            "24 <img src=\"/content/dam/mopar/HomePage/Desktop/more-to-explore/chr_img_1.jpg\" alt=\"\" loading=\"lazy\"/>\n",
            "25 <img alt=\"register_now_and_get_access_to_dashboard\" src=\"/content/dam/mopar/HomePage/Desktop/Promo_Jeep_Dashboard_Desktop_850x400.jpg\" class=\"img-responsive\" loading=\"lazy\"/>\n",
            "26 <img alt=\"view_dashboard\" src=\"/content/dam/mopar/HomePage/Desktop/Promo_Dodge_Dashboard_Desktop_850x400.jpg\" class=\"img-responsive\" loading=\"lazy\"/>\n",
            "27 <img src=\"/content/dam/mopar/HomePage/blogs/Sema_image_lrg@2x.jpg\" srcset=\"/content/dam/mopar/HomePage/blogs/Sema_image_lrg@2x.jpg\" alt=\"discover_more_about_mopar_lifestyle\" loading=\"lazy\"/>\n",
            "28 <img src=\"/content/dam/mopar/images/global/Driveability_logo.svg\" alt=\"image\"/>\n"
          ]
        }
      ]
    },
    {
      "cell_type": "code",
      "source": [],
      "metadata": {
        "id": "Z1EhSGjnGQ0u"
      },
      "execution_count": null,
      "outputs": []
    },
    {
      "cell_type": "code",
      "source": [
        "html_content.splitlines()"
      ],
      "metadata": {
        "colab": {
          "base_uri": "https://localhost:8080/"
        },
        "id": "lA-0qNjvV8fa",
        "outputId": "b7a598e7-b574-47db-c0a4-c32c744c6ec4"
      },
      "execution_count": null,
      "outputs": [
        {
          "output_type": "execute_result",
          "data": {
            "text/plain": [
              "['',\n",
              " '<!DOCTYPE HTML>',\n",
              " '<html lang=\"en\">',\n",
              " '',\n",
              " '    <head>',\n",
              " '    <meta charset=\"UTF-8\"/>',\n",
              " '    <meta http-equiv=\"X-UA-Compatible\" content=\"IE=edge\"/>',\n",
              " '    <meta name=\"viewport\" content=\"width=device-width, initial-scale=1\"/>',\n",
              " '   <title>Official Global Website  | Stellantis</title>',\n",
              " '    ',\n",
              " '    ',\n",
              " '        <meta name=\"description\" content=\"Welcome to the Official Global Website of Stellantis, a leading global automaker and provider of innovative mobility solutions.\"/>',\n",
              " '    ',\n",
              " '    <meta name=\"template\" content=\"page-home\"/>',\n",
              " '',\n",
              " '    ',\n",
              " '    ',\n",
              " '    <meta property=\"og:title\"/>',\n",
              " '    <meta property=\"og:description\"/>',\n",
              " '    <meta property=\"og:image\"/>',\n",
              " '    <meta property=\"og:url\"/>',\n",
              " '    ',\n",
              " '    <meta name=\"twitter:title\"/>',\n",
              " '    <meta name=\"twitter:description\"/>',\n",
              " '    <meta name=\"twitter:image\"/>',\n",
              " '    <meta name=\"twitter:card\"/>',\n",
              " '    <meta name=\"robots\" content=\"follow\"/>',\n",
              " '',\n",
              " '    <meta name=\"google-site-verification\" content=\"2Kid1XTZ33Rqe_7Bai_mi_xNHeOscUy3eOEjOHwqF7g\"/>',\n",
              " '',\n",
              " '',\n",
              " '    <link rel=\"canonical\" href=\"https://www.stellantis.com/en\"/>',\n",
              " '    <link rel=\"alternate\" hreflang=\"en\" href=\"https://www.stellantis.com/en\"/>',\n",
              " '    <link rel=\"alternate\" hreflang=\"fr\" href=\"https://www.stellantis.com/fr\"/>',\n",
              " '    <link rel=\"alternate\" hreflang=\"it\" href=\"https://www.stellantis.com/it\"/>',\n",
              " '',\n",
              " '    ',\n",
              " '    <link rel=\"icon\" href=\"/favicon.ico\" type=\"image/x-icon\"/>',\n",
              " '',\n",
              " '    ',\n",
              " '    ',\n",
              " '    ',\n",
              " '',\n",
              " '',\n",
              " '    ',\n",
              " '    ',\n",
              " '    ',\n",
              " '<link rel=\"stylesheet\" href=\"/etc.clientlibs/stellantis-corporate/clientlibs/clientlib-base.min.4fb628f2edf7b457c6ec0b16fbabb054.css\" type=\"text/css\">',\n",
              " '',\n",
              " '',\n",
              " '',\n",
              " '    ',\n",
              " '    ',\n",
              " '<link rel=\"stylesheet\" href=\"/etc.clientlibs/stellantis-corporate/clientlibs/clientlib-vendors.min.6f535a82946cfb3fd89c000e74ccfc9a.css\" type=\"text/css\">',\n",
              " '',\n",
              " '',\n",
              " '',\n",
              " '    ',\n",
              " '    ',\n",
              " '<link rel=\"stylesheet\" href=\"/etc.clientlibs/stellantis-corporate/clientlibs/clientlib-site.min.99b580dbf4f1af5f9fd4a2c095f29bd2.css\" type=\"text/css\">',\n",
              " '',\n",
              " '',\n",
              " '',\n",
              " '    ',\n",
              " '    ',\n",
              " '    ',\n",
              " '    ',\n",
              " '<link rel=\"stylesheet\" href=\"/etc.clientlibs/stellantis-corporate/clientlibs/clientlib-site-page.min.edaa8c82473ca63a011eaaa02a4ca0b9.css\" type=\"text/css\">',\n",
              " '',\n",
              " '',\n",
              " '',\n",
              " '',\n",
              " '',\n",
              " '',\n",
              " '    ',\n",
              " '    ',\n",
              " '<link rel=\"stylesheet\" href=\"/etc.clientlibs/stellantis-corporate/clientlibs/clientlib-site-mobile.min.df56db4da7b3584667defa540f9db2e0.css\" type=\"text/css\">',\n",
              " '',\n",
              " '',\n",
              " '',\n",
              " '',\n",
              " '    ',\n",
              " '    <script type=\"application/javascript\" src=\"https://kit.fontawesome.com/750b28e362.js\" crossorigin=\"anonymous\"></script>',\n",
              " '',\n",
              " '    ',\n",
              " '    ',\n",
              " '',\n",
              " '',\n",
              " '    ',\n",
              " '    <script type=\"text/javascript\" src=\"/etc.clientlibs/stellantis-corporate/clientlibs/clientlib-vendors/resources/jquery-3.5.1.min.js\"></script>',\n",
              " '',\n",
              " '    ',\n",
              " '    ',\n",
              " '        <link rel=\"stylesheet\" type=\"text/css\" href=\"https://cookielaw.emea.fcagroup.com/CookieLawProduct/resources/generatecss?key=2762\"/>',\n",
              " '        <script type=\"text/javascript\" src=\"https://cookielaw.emea.fcagroup.com/CookieLawProduct/resources/generatejs?key=2762\"></script>',\n",
              " '    ',\n",
              " '',\n",
              " '<script>(window.BOOMR_mq=window.BOOMR_mq||[]).push([\"addVar\",{\"rua.upush\":\"false\",\"rua.cpush\":\"false\",\"rua.upre\":\"false\",\"rua.cpre\":\"false\",\"rua.uprl\":\"false\",\"rua.cprl\":\"false\",\"rua.cprf\":\"false\",\"rua.trans\":\"\",\"rua.cook\":\"false\",\"rua.ims\":\"false\",\"rua.ufprl\":\"false\",\"rua.cfprl\":\"false\",\"rua.isuxp\":\"false\",\"rua.texp\":\"norulematch\"}]);</script>',\n",
              " '                              <script>!function(a){var e=\"https://s.go-mpulse.net/boomerang/\",t=\"addEventListener\";if(\"False\"==\"True\")a.BOOMR_config=a.BOOMR_config||{},a.BOOMR_config.PageParams=a.BOOMR_config.PageParams||{},a.BOOMR_config.PageParams.pci=!0,e=\"https://s2.go-mpulse.net/boomerang/\";if(window.BOOMR_API_key=\"KXN7V-HZ8TY-XZVXQ-FXLWU-57S7F\",function(){function n(e){a.BOOMR_onload=e&&e.timeStamp||(new Date).getTime()}if(!a.BOOMR||!a.BOOMR.version&&!a.BOOMR.snippetExecuted){a.BOOMR=a.BOOMR||{},a.BOOMR.snippetExecuted=!0;var i,_,o,r=document.createElement(\"iframe\");if(a[t])a[t](\"load\",n,!1);else if(a.attachEvent)a.attachEvent(\"onload\",n);r.src=\"javascript:void(0)\",r.title=\"\",r.role=\"presentation\",(r.frameElement||r).style.cssText=\"width:0;height:0;border:0;display:none;\",o=document.getElementsByTagName(\"script\")[0],o.parentNode.insertBefore(r,o);try{_=r.contentWindow.document}catch(O){i=document.domain,r.src=\"javascript:var d=document.open();d.domain=\\'\"+i+\"\\';void(0);\",_=r.contentWindow.document}_.open()._l=function(){var a=this.createElement(\"script\");if(i)this.domain=i;a.id=\"boomr-if-as\",a.src=e+\"KXN7V-HZ8TY-XZVXQ-FXLWU-57S7F\",BOOMR_lstart=(new Date).getTime(),this.body.appendChild(a)},_.write(\"<bo\"+\\'dy onload=\"document._l();\">\\'),_.close()}}(),\"\".length>0)if(a&&\"performance\"in a&&a.performance&&\"function\"==typeof a.performance.setResourceTimingBufferSize)a.performance.setResourceTimingBufferSize();!function(){if(BOOMR=a.BOOMR||{},BOOMR.plugins=BOOMR.plugins||{},!BOOMR.plugins.AK){var e=\"\"==\"true\"?1:0,t=\"\",n=\"eptl27qxbsjsyzauswha-f-effb3a632-clientnsv4-s.akamaihd.net\",i=\"false\"==\"true\"?2:1,_={\"ak.v\":\"34\",\"ak.cp\":\"1132307\",\"ak.ai\":parseInt(\"671031\",10),\"ak.ol\":\"0\",\"ak.cr\":6,\"ak.ipv\":4,\"ak.proto\":\"http/1.1\",\"ak.rid\":\"8f0b8e\",\"ak.r\":40759,\"ak.a2\":e,\"ak.m\":\"dscx\",\"ak.n\":\"essl\",\"ak.bpcip\":\"35.230.189.0\",\"ak.cport\":49340,\"ak.gh\":\"104.78.78.108\",\"ak.quicv\":\"\",\"ak.tlsv\":\"tls1.3\",\"ak.0rtt\":\"\",\"ak.csrc\":\"-\",\"ak.acc\":\"reno\",\"ak.t\":\"1679070606\",\"ak.ak\":\"hOBiQwZUYzCg5VSAfCLimQ==jupi4OXRyVEAgc7+/r+kPUE/2Vv5JBdt5MMs1jUPycw9bw5HvZbuGJVI7QwAZf9FLQo9tJfLF8yxn/23aKWY+AFLzvQQrtYQQsAkZhmGMyE/0HJTzd0cyA3ijulJfxeURG3tBrN5Fiy5LwUL5BlbIAdO4jYTZcrnDJwVDSvQdmOOlQWdGwrRt0Dc3kXezo4+iVC6UvMz7Ik2XQGmND+RSHBH/ECjDlaui7+keKVYyOGuCEAWOhon3cFBVfyJxkAVei0fCB4kiAMIS/vsTJcrDQZPvnDsj3LT9SPJ4Kph+1jtQkg4FEojMfluCGiTru7+Yf62cpHEIb3nFFTMRQUCuSCIdZDgcVqZJJ1ZFkv6Uv7kEYKJp/ctbDVfgV9yX4HmzYxe+wrGr9fScFkkXVFsHEsrT7KzJT4/m5xqEgYVGhU=\",\"ak.pv\":\"27\",\"ak.dpoabenc\":\"\",\"ak.tf\":i};if(\"\"!==t)_[\"ak.ruds\"]=t;var o={i:!1,av:function(e){var t=\"http.initiator\";if(e&&(!e[t]||\"spa_hard\"===e[t]))_[\"ak.feo\"]=void 0!==a.aFeoApplied?1:0,BOOMR.addVar(_)},rv:function(){var a=[\"ak.bpcip\",\"ak.cport\",\"ak.cr\",\"ak.csrc\",\"ak.gh\",\"ak.ipv\",\"ak.m\",\"ak.n\",\"ak.ol\",\"ak.proto\",\"ak.quicv\",\"ak.tlsv\",\"ak.0rtt\",\"ak.r\",\"ak.acc\",\"ak.t\",\"ak.tf\"];BOOMR.removeVar(a)}};BOOMR.plugins.AK={akVars:_,akDNSPreFetchDomain:n,init:function(){if(!o.i){var a=BOOMR.subscribe;a(\"before_beacon\",o.av,null,null),a(\"onbeacon\",o.rv,null,null),o.i=!0}return this},is_complete:function(){return!0}}}}()}(window);</script></head>',\n",
              " '',\n",
              " '    <body class=\"no-front t00 using-keyboard\">',\n",
              " '',\n",
              " '        ',\n",
              " '',\n",
              " '        ',\n",
              " '            ',\n",
              " '            ',\n",
              " '                ',\n",
              " '                <script type=\"text/javascript\">',\n",
              " '                        $$TICKER_ON$$ = 1;',\n",
              " '                        dataLayer = [{',\n",
              " \"                            'event': 'wSetup',\",\n",
              " \"                            'language': 'en',\",\n",
              " \"                            'environment': 'production',\",\n",
              " \"                            'pageType': 'homepage',\",\n",
              " \"                            'firstLevelPage': 'homepage',\",\n",
              " \"                            'secondLevelPage': '',\",\n",
              " \"                            'thirdLevelPage': ''\",\n",
              " '                            }];',\n",
              " '                </script>',\n",
              " '',\n",
              " '                ',\n",
              " '                <!-- Google Tag Manager -->',\n",
              " \"<script>(function(w,d,s,l,i){w[l]=w[l]||[];w[l].push({'gtm.start':\",\n",
              " \"new Date().getTime(),event:'gtm.js'});var f=d.getElementsByTagName(s)[0],\",\n",
              " \"j=d.createElement(s),dl=l!='dataLayer'?'&l='+l:'';j.async=true;j.src=\",\n",
              " \"'https://www.googletagmanager.com/gtm.js?id='+i+dl;f.parentNode.insertBefore(j,f);\",\n",
              " \"})(window,document,'script','dataLayer','GTM-59X4WML');</script>\",\n",
              " '<!-- End Google Tag Manager -->',\n",
              " '            ',\n",
              " '            ',\n",
              " '                ',\n",
              " '                ',\n",
              " '                <script type=\"application/javascript\">',\n",
              " \"                    $$SEARCH_PAGE$$ = '/en/search';\",\n",
              " '                </script>',\n",
              " '                ',\n",
              " '                ',\n",
              " '            ',\n",
              " '            ',\n",
              " '            ',\n",
              " '',\n",
              " '    ',\n",
              " '    ',\n",
              " '    ',\n",
              " '    ',\n",
              " '    ',\n",
              " '        <header>',\n",
              " '    ',\n",
              " '    <a class=\"sr-only sr-only-focusable show-on-focus skip-style\" tabindex=\"0\" aria-labelledby=\"main\">Skip to main content</a>',\n",
              " '    <div class=\"row\">',\n",
              " '        <nav id=\"primary-menu\" aria-label=\"Header\" class=\"fixed-top navbar navbar-light navbar-expand-md\">',\n",
              " '            ',\n",
              " '            <div class=\"container row py-3\">',\n",
              " '                <div class=\"col-md-3 col-sm-12 px-0\">',\n",
              " '                    <div class=\"navbar-collapse headline-box\">',\n",
              " '                        <h1 class=\"sr-only h1-internal-menu\">Menu Stellantis</h1>',\n",
              " '                        <ul class=\"nav navbar-nav\" role=\"none\">',\n",
              " '                            <li class=\"dropdown menu-large nav-item\" role=\"none\">',\n",
              " '                                ',\n",
              " '                                <button id=\"nav-button\" class=\"nav-link no-btn-style\" data-toggle=\"dropdown\" tabindex=\"0\" aria-label=\"Main Menu\" data-ga-event=\"02;menu;click;{CLICK_TYPE}\">',\n",
              " '                                </button>',\n",
              " '                                <ul class=\"dropdown-menu megamenu pt-3 \">',\n",
              " '                                    <img class=\"internal-bg\" src=\"/content/dam/stellantis-corporate/home-page-carousel/header/internal-menu.jpg\" alt=\"\" role=\"presentation\"/>',\n",
              " '                                    <div class=\"row megamenu-item\">',\n",
              " '                                        ',\n",
              " '                                            <li class=\"col-md-2 dropdown-item item-1  \">',\n",
              " '                                                ',\n",
              " '                                                ',\n",
              " '',\n",
              " '',\n",
              " '',\n",
              " '',\n",
              " '',\n",
              " '    <h2 class=\"header-dropdown\">',\n",
              " '        ',\n",
              " '        ',\n",
              " '            <a href=\"#mega-submenu-1st-1544242862\" class=\"dropdown-expand\" data-toggle=\"collapse\" role=\"button\" tabindex=\"0\" id=\"dropdownMenuButton1st-1544242862\" aria-haspopup=\"true\" aria-expanded=\"false\">Company</a>',\n",
              " '        ',\n",
              " '    </h2>',\n",
              " '    <ul aria-labelledby=\"dropdownMenuButton1st-1544242862\">',\n",
              " '        ',\n",
              " '            ',\n",
              " '            <li>',\n",
              " '                <a href=\"/en/company/about-us\" data-ga-event=\"01;menu;company;about_us;\">About Us</a>',\n",
              " '            </li>',\n",
              " '            ',\n",
              " '        ',\n",
              " '            ',\n",
              " '            <li>',\n",
              " '                <a href=\"/en/company/purpose-and-values\" data-ga-event=\"01;menu;company;purpose_and_values;\">Purpose and Values</a>',\n",
              " '            </li>',\n",
              " '            ',\n",
              " '        ',\n",
              " '            ',\n",
              " '            <li>',\n",
              " '                <a href=\"/en/company/dare-forward-2030\" data-ga-event=\"01;menu;company;dare_forward_2030;\">Dare Forward 2030</a>',\n",
              " '            </li>',\n",
              " '            ',\n",
              " '        ',\n",
              " '            ',\n",
              " '            ',\n",
              " '            <li class=\"dropdown\">',\n",
              " '                <a href=\"#mega-submenu-3-1544242862\" class=\"dropdown-expand\" role=\"button\" tabindex=\"0\" id=\"dropdownMenuButton3-1544242862\" aria-haspopup=\"true\" aria-expanded=\"false\" data-ga-event=\"01;menu;company;governance;\">',\n",
              " '                    <span>Governance</span>',\n",
              " '                    <span class=\"dropdown-icon pull-right\">',\n",
              " '                        <i class=\"fas far fa-plus-circle\"></i>',\n",
              " '                    </span>',\n",
              " '                </a>',\n",
              " '                <ul id=\"mega-submenu-3-1544242862\" class=\"dropdown-children collapse\" aria-labelledby=\"dropdownMenuButton3-1544242862\">',\n",
              " '                    ',\n",
              " '                        <li><a href=\"/en/company/governance/board-of-directors\" class=\"dropdown-item\" data-ga-event=\"01;menu;company;governance;board_of_directors\">Board of Directors</a>',\n",
              " '                        </li>',\n",
              " '                    ',\n",
              " '                        <li><a href=\"/en/company/governance/top-executive-team\" class=\"dropdown-item\" data-ga-event=\"01;menu;company;governance;top_executive_team\">Top Executive Team</a>',\n",
              " '                        </li>',\n",
              " '                    ',\n",
              " '                        <li><a href=\"/en/company/governance/corporate-regulations\" class=\"dropdown-item\" data-ga-event=\"01;menu;company;governance;corporate_regulations\">Corporate Regulations</a>',\n",
              " '                        </li>',\n",
              " '                    ',\n",
              " '                </ul>',\n",
              " '            </li>',\n",
              " '        ',\n",
              " '    </ul>',\n",
              " '',\n",
              " '',\n",
              " '',\n",
              " '',\n",
              " '',\n",
              " '                                            </li>',\n",
              " '                                        ',\n",
              " '                                            <li class=\"col-md-2 dropdown-item item-2  \">',\n",
              " '                                                ',\n",
              " '                                                ',\n",
              " '',\n",
              " '',\n",
              " '',\n",
              " '',\n",
              " '',\n",
              " '',\n",
              " '',\n",
              " '    <h2 class=\"header-dropdown\">',\n",
              " '        ',\n",
              " '        ',\n",
              " '            <a href=\"#mega-submenu-1st-640605957\" class=\"dropdown-expand\" data-toggle=\"collapse\" role=\"button\" tabindex=\"0\" id=\"dropdownMenuButton1st-640605957\" aria-haspopup=\"true\" aria-expanded=\"false\" data-ga-event=\"01;menu;brands;;\">Brands</a>',\n",
              " '        ',\n",
              " '    </h2>',\n",
              " '    <ul aria-labelledby=\"dropdownMenuButton1st-640605957\">',\n",
              " '        <li>',\n",
              " '            ',\n",
              " '                <div class=\"row logo-list \">',\n",
              " '                    ',\n",
              " '                        <div><a href=\"/en/brands/abarth\" aria-label=\"\" tabindex=\"0\" role=\"menu-item\" data-ga-event=\"01;menu;brands;abarth\">',\n",
              " '                            <img alt=\"Abarth Logo\" src=\"/content/dam/stellantis-corporate/assets/brand-logo-negative/brand-logos-same-width-white/brand-abarth-SW-white-01-menu.svg\"/></a></div>',\n",
              " '                        <div><a href=\"/en/brands/alfa-romeo\" aria-label=\"\" tabindex=\"0\" data-ga-event=\"01;menu;brands;alfa_romeo\">',\n",
              " '                            <img alt=\"Alfa Romeo Logo\" src=\"/content/dam/stellantis-corporate/assets/brand-logo-negative/brand-logos-same-width-white/brand-alfa-romeo-SW-white-02-menu.svg\"/></a></div>',\n",
              " '                    ',\n",
              " '                    ',\n",
              " '                </div>',\n",
              " '            ',\n",
              " '                <div class=\"row logo-list \">',\n",
              " '                    ',\n",
              " '                        <div><a href=\"/en/brands/chrysler\" aria-label=\"\" tabindex=\"0\" data-ga-event=\"01;menu;brands;chrysler\">',\n",
              " '                            <img alt=\"Chrysler\" src=\"/content/dam/stellantis-corporate/assets/brand-logo-negative/brand-logos-same-width-white/brand-chrysler-SW-white-03.svg\"/></a></div>',\n",
              " '                        <div><a href=\"/en/brands/citroen\" aria-label=\"\" tabindex=\"0\" data-ga-event=\"01;menu;brands;citroen\">',\n",
              " '                            <img alt=\"Citroen Logo\" src=\"/content/dam/stellantis-corporate/assets/brand-logo-negative/brand-logos-same-width-white/brand-citroen-SW-white-04.svg\"/></a></div>',\n",
              " '                    ',\n",
              " '                    ',\n",
              " '                </div>',\n",
              " '            ',\n",
              " '                <div class=\"row logo-list \">',\n",
              " '                    ',\n",
              " '                        <div><a href=\"/en/brands/dodge\" aria-label=\"\" tabindex=\"0\" data-ga-event=\"01;menu;brands;dodge\">',\n",
              " '                            <img alt=\"Dodge Logo\" src=\"/content/dam/stellantis-corporate/assets/brand-logo-negative/brand-logos-same-width-white/brand-dodge-SW-white-05.svg\"/></a></div>',\n",
              " '                        <div><a href=\"/en/brands/ds\" aria-label=\"\" tabindex=\"0\" data-ga-event=\"01;menu;brands;ds\">',\n",
              " '                            <img alt=\"DS Automobiles Logo\" src=\"/content/dam/stellantis-corporate/assets/brand-logo-negative/brand-logos-same-width-white/brand-ds-SW-white-06.svg\"/></a></div>',\n",
              " '                    ',\n",
              " '                    ',\n",
              " '                </div>',\n",
              " '            ',\n",
              " '                <div class=\"row logo-list \">',\n",
              " '                    ',\n",
              " '                        <div><a href=\"/en/brands/fiat\" aria-label=\"\" tabindex=\"0\" data-ga-event=\"01;menu;brands;fiat\">',\n",
              " '                            <img alt=\"Fiat Logo\" src=\"/content/dam/stellantis-corporate/assets/brand-logo-negative/brand-logos-same-width-white/brand-fiat-SW-white-07.svg\"/></a></div>',\n",
              " '                        <div><a href=\"/en/brands/jeep\" aria-label=\"\" tabindex=\"0\" data-ga-event=\"01;menu;brands;jeep\">',\n",
              " '                            <img alt=\"Jeep Logo\" src=\"/content/dam/stellantis-corporate/assets/brand-logo-negative/brand-logos-same-width-white/brand-jeep-SW-white-09.svg\"/></a></div>',\n",
              " '                    ',\n",
              " '                    ',\n",
              " '                </div>',\n",
              " '            ',\n",
              " '                <div class=\"row logo-list \">',\n",
              " '                    ',\n",
              " '                        <div><a href=\"/en/brands/lancia\" aria-label=\"\" tabindex=\"0\" data-ga-event=\"01;menu;brands;lancia\">',\n",
              " '                            <img alt=\"Lancia Logo \" src=\"/content/dam/stellantis-corporate/assets/brand-logo-negative/brand-logos-same-width-white/brand-lancia-SW-white-10.svg\"/></a></div>',\n",
              " '                        <div><a href=\"/en/brands/maserati\" aria-label=\"\" tabindex=\"0\" data-ga-event=\"01;menu;brands;maserati\">',\n",
              " '                            <img alt=\"Maserati Logo\" src=\"/content/dam/stellantis-corporate/assets/brand-logo-negative/brand-logos-same-width-white/brand-maserati-SW-white-11.svg\"/></a></div>',\n",
              " '                    ',\n",
              " '                    ',\n",
              " '                </div>',\n",
              " '            ',\n",
              " '                <div class=\"row logo-list \">',\n",
              " '                    ',\n",
              " '                        <div><a href=\"/en/brands/opel\" aria-label=\"\" tabindex=\"0\" data-ga-event=\"01;menu;brands;opel\">',\n",
              " '                            <img alt=\"Opel Logo\" src=\"/content/dam/stellantis-corporate/assets/brand-logo-negative/brand-logos-same-width-white/brand-opel-SW-white-13.svg\"/></a></div>',\n",
              " '                        <div><a href=\"/en/brands/peugeot\" aria-label=\"\" tabindex=\"0\" data-ga-event=\"01;menu;brands;peugeot\">',\n",
              " '                            <img alt=\"Peugeot Logo\" src=\"/content/dam/stellantis-corporate/assets/brand-logo-negative/brand-logos-same-width-white/brand-peugeot-SW-white-14.svg\"/></a></div>',\n",
              " '                    ',\n",
              " '                    ',\n",
              " '                </div>',\n",
              " '            ',\n",
              " '                <div class=\"row logo-list \">',\n",
              " '                    ',\n",
              " '                        <div><a href=\"/en/brands/ram-trucks\" aria-label=\"\" tabindex=\"0\" data-ga-event=\"01;menu;brands;ram_trucks\">',\n",
              " '                            <img alt=\"Ram Logo\" src=\"/content/dam/stellantis-corporate/assets/brand-logo-negative/brand-logos-same-width-white/brand-ram-SW-white-15.svg\"/></a></div>',\n",
              " '                        <div><a href=\"/en/brands/vauxhall\" aria-label=\"\" tabindex=\"0\" data-ga-event=\"01;menu;brands;vauxhall\">',\n",
              " '                            <img alt=\"Vauxhall Logo\" src=\"/content/dam/stellantis-corporate/assets/brand-logo-negative/brand-logos-same-width-white/brand-vauxhall-SW-white-16.svg\"/></a></div>',\n",
              " '                    ',\n",
              " '                    ',\n",
              " '                </div>',\n",
              " '            ',\n",
              " '                <div class=\"row logo-list line-hr\">',\n",
              " '                    ',\n",
              " '                        <div><a href=\"/en/brands/free2move\" aria-label=\"\" tabindex=\"0\" data-ga-event=\"01;menu;brands;free2move\">',\n",
              " '                            <img alt=\"Free 2 move\" src=\"/content/dam/stellantis-corporate/assets/brand-logo-negative/brand-logos-same-width-white/brand-free2move-SW-white-17.svg\"/></a></div>',\n",
              " '                        <div><a href=\"/en/brands/leasys\" aria-label=\"\" tabindex=\"0\" data-ga-event=\"01;menu;brands;leasys\">',\n",
              " '                            <img alt=\"Leasys Logo\" src=\"/content/dam/stellantis-corporate/assets/brand-logo-negative/brand-logos-same-width-white/brand-leasys-SW-white-18.svg\"/></a></div>',\n",
              " '                    ',\n",
              " '                    ',\n",
              " '                </div>',\n",
              " '            ',\n",
              " '',\n",
              " '',\n",
              " '            ',\n",
              " '        </li>',\n",
              " '    </ul>',\n",
              " '',\n",
              " '',\n",
              " '',\n",
              " '                                            </li>',\n",
              " '                                        ',\n",
              " '                                            <li class=\"col-md-2 dropdown-item item-3  \">',\n",
              " '                                                ',\n",
              " '                                                ',\n",
              " '',\n",
              " '',\n",
              " '',\n",
              " '',\n",
              " '',\n",
              " '    <h2 class=\"header-dropdown\">',\n",
              " '        ',\n",
              " '        ',\n",
              " '            <a href=\"#mega-submenu-1st-370800388\" class=\"dropdown-expand\" data-toggle=\"collapse\" role=\"button\" tabindex=\"0\" id=\"dropdownMenuButton1st-370800388\" aria-haspopup=\"true\" aria-expanded=\"false\">Technology</a>',\n",
              " '        ',\n",
              " '    </h2>',\n",
              " '    <ul aria-labelledby=\"dropdownMenuButton1st-370800388\">',\n",
              " '        ',\n",
              " '            ',\n",
              " '            <li>',\n",
              " '                <a href=\"/en/technology\" data-ga-event=\"01;menu;technology;overview;\">Overview</a>',\n",
              " '            </li>',\n",
              " '            ',\n",
              " '        ',\n",
              " '            ',\n",
              " '            <li>',\n",
              " '                <a href=\"/en/technology/electrification\" data-ga-event=\"01;menu;technology;electrification;\">Electrification</a>',\n",
              " '            </li>',\n",
              " '            ',\n",
              " '        ',\n",
              " '            ',\n",
              " '            <li>',\n",
              " '                <a href=\"/en/technology/hydrogen-fuel-cell-technology\" data-ga-event=\"01;menu;technology;hydrogen_fuel_cell_technology;\">Hydrogen Fuel Cell Technology</a>',\n",
              " '            </li>',\n",
              " '            ',\n",
              " '        ',\n",
              " '            ',\n",
              " '            <li>',\n",
              " '                <a href=\"/en/technology/intelligent-vehicles\" data-ga-event=\"01;menu;technology;intelligent_vehicles;\">Intelligent Vehicles</a>',\n",
              " '            </li>',\n",
              " '            ',\n",
              " '        ',\n",
              " '            ',\n",
              " '            <li>',\n",
              " '                <a href=\"/en/technology/autonomous-driving\" data-ga-event=\"01;menu;technology;autonomous_driving;\">Autonomous Driving</a>',\n",
              " '            </li>',\n",
              " '            ',\n",
              " '        ',\n",
              " '    </ul>',\n",
              " '',\n",
              " '',\n",
              " '',\n",
              " '',\n",
              " '',\n",
              " '                                            </li>',\n",
              " '                                        ',\n",
              " '                                            <li class=\"col-md-2 dropdown-item item-4  \">',\n",
              " '                                                ',\n",
              " '                                                ',\n",
              " '',\n",
              " '',\n",
              " '',\n",
              " '',\n",
              " '',\n",
              " '    <h2 class=\"header-dropdown\">',\n",
              " '        ',\n",
              " '        ',\n",
              " '            <a href=\"#mega-submenu-1st-252190939\" class=\"dropdown-expand\" data-toggle=\"collapse\" role=\"button\" tabindex=\"0\" id=\"dropdownMenuButton1st-252190939\" aria-haspopup=\"true\" aria-expanded=\"false\">Responsibility</a>',\n",
              " '        ',\n",
              " '    </h2>',\n",
              " '    <ul aria-labelledby=\"dropdownMenuButton1st-252190939\">',\n",
              " '        ',\n",
              " '            ',\n",
              " '            <li>',\n",
              " '                <a href=\"/en/responsibility/csr-vision\" data-ga-event=\"01;menu;responsibility;csr_vision;\">CSR Vision</a>',\n",
              " '            </li>',\n",
              " '            ',\n",
              " '        ',\n",
              " '            ',\n",
              " '            <li>',\n",
              " '                <a href=\"/en/responsibility/csr-disclosures\" data-ga-event=\"01;menu;responsibility;csr_disclosures;\">CSR Disclosures</a>',\n",
              " '            </li>',\n",
              " '            ',\n",
              " '        ',\n",
              " '            ',\n",
              " '            <li>',\n",
              " '                <a href=\"/en/responsibility/carbon-net-zero-strategy\" data-ga-event=\"01;menu;responsibility;carbon_net_zero_strategy;\">Carbon Net Zero Strategy</a>',\n",
              " '            </li>',\n",
              " '            ',\n",
              " '        ',\n",
              " '            ',\n",
              " '            <li>',\n",
              " '                <a href=\"/en/responsibility/diversity-and-inclusion\" data-ga-event=\"01;menu;responsibility;diversity_and_inclusion;\">Diversity and Inclusion</a>',\n",
              " '            </li>',\n",
              " '            ',\n",
              " '        ',\n",
              " '            ',\n",
              " '            <li>',\n",
              " '                <a href=\"/en/responsibility/human-rights\" data-ga-event=\"01;menu;responsibility;human_rights;\">Human Rights</a>',\n",
              " '            </li>',\n",
              " '            ',\n",
              " '        ',\n",
              " '            ',\n",
              " '            <li>',\n",
              " '                <a href=\"/en/responsibility/environmental-stewardship-of-manufacturing-operations\" data-ga-event=\"01;menu;responsibility;environmental_stewardship_of_manufacturing_operations;\">Environmental Stewardship of Manufacturing Operations</a>',\n",
              " '            </li>',\n",
              " '            ',\n",
              " '        ',\n",
              " '            ',\n",
              " '            <li>',\n",
              " '                <a href=\"/en/responsibility/responsible-purchasing-practices\" data-ga-event=\"01;menu;responsibility;responsible_purchasing_practices;\">Responsible Purchasing Practices</a>',\n",
              " '            </li>',\n",
              " '            ',\n",
              " '        ',\n",
              " '            ',\n",
              " '            <li>',\n",
              " '                <a href=\"/en/responsibility/stakeholder-dialogue\" data-ga-event=\"01;menu;responsibility;stakeholder_dialogue;\">Stakeholder Dialogue</a>',\n",
              " '            </li>',\n",
              " '            ',\n",
              " '        ',\n",
              " '    </ul>',\n",
              " '',\n",
              " '',\n",
              " '',\n",
              " '',\n",
              " '',\n",
              " '                                            </li>',\n",
              " '                                        ',\n",
              " '                                            <li class=\"col-md-2 dropdown-item item-5  \">',\n",
              " '                                                ',\n",
              " '                                                ',\n",
              " '',\n",
              " '',\n",
              " '',\n",
              " '',\n",
              " '',\n",
              " '    <h2 class=\"header-dropdown\">',\n",
              " '        ',\n",
              " '            ',\n",
              " '            <a href=\"/en/careers/work-with-us\" data-ga-event=\"01;menu;careers;\" target=\"_self\" tabindex=\"0\" aria-expanded=\"false\">Careers</a>',\n",
              " '        ',\n",
              " '        ',\n",
              " '    </h2>',\n",
              " '    ',\n",
              " '',\n",
              " '',\n",
              " '',\n",
              " '',\n",
              " '',\n",
              " '                                            </li>',\n",
              " '                                        ',\n",
              " '                                            <li class=\"col-md-2 dropdown-item item-6  \">',\n",
              " '                                                ',\n",
              " '                                                ',\n",
              " '',\n",
              " '',\n",
              " '',\n",
              " '',\n",
              " '',\n",
              " '    <h2 class=\"header-dropdown\">',\n",
              " '        ',\n",
              " '        ',\n",
              " '            <a href=\"#mega-submenu-1st-880351479\" class=\"dropdown-expand\" data-toggle=\"collapse\" role=\"button\" tabindex=\"0\" id=\"dropdownMenuButton1st-880351479\" aria-haspopup=\"true\" aria-expanded=\"false\">Investors</a>',\n",
              " '        ',\n",
              " '    </h2>',\n",
              " '    <ul aria-labelledby=\"dropdownMenuButton1st-880351479\">',\n",
              " '        ',\n",
              " '            ',\n",
              " '            <li>',\n",
              " '                <a href=\"/en/investors/investor-dashboard\" data-ga-event=\"01;menu;investors;investor_dashboard;\">Investor Dashboard</a>',\n",
              " '            </li>',\n",
              " '            ',\n",
              " '        ',\n",
              " '            ',\n",
              " '            ',\n",
              " '            <li class=\"dropdown\">',\n",
              " '                <a href=\"#mega-submenu-1-880351479\" class=\"dropdown-expand\" role=\"button\" tabindex=\"0\" id=\"dropdownMenuButton1-880351479\" aria-haspopup=\"true\" aria-expanded=\"false\" data-ga-event=\"01;menu;investors;stock_and_shareholder_info;\">',\n",
              " '                    <span>Stock and Shareholder Info</span>',\n",
              " '                    <span class=\"dropdown-icon pull-right\">',\n",
              " '                        <i class=\"fas far fa-plus-circle\"></i>',\n",
              " '                    </span>',\n",
              " '                </a>',\n",
              " '                <ul id=\"mega-submenu-1-880351479\" class=\"dropdown-children collapse\" aria-labelledby=\"dropdownMenuButton1-880351479\">',\n",
              " '                    ',\n",
              " '                        <li><a href=\"/en/investors/stock-and-shareholder-info/stock-info\" class=\"dropdown-item\" data-ga-event=\"01;menu;investors;stock_and_shareholder_info;stock_info\">Stock Info</a>',\n",
              " '                        </li>',\n",
              " '                    ',\n",
              " '                        <li><a href=\"/en/investors/stock-and-shareholder-info/shareholder-meetings\" class=\"dropdown-item\" data-ga-event=\"01;menu;investors;stock_and_shareholder_info;shareholder_meetings\">Shareholder Meetings</a>',\n",
              " '                        </li>',\n",
              " '                    ',\n",
              " '                        <li><a href=\"/en/investors/stock-and-shareholder-info/special-voting-shares\" class=\"dropdown-item\" data-ga-event=\"01;menu;investors;stock_and_shareholder_info;special_voting_shares\">Special Voting Shares</a>',\n",
              " '                        </li>',\n",
              " '                    ',\n",
              " '                        <li><a href=\"/en/investors/stock-and-shareholder-info/distribution-information\" class=\"dropdown-item\" data-ga-event=\"01;menu;investors;stock_and_shareholder_info;distribution_information\">Distribution Information</a>',\n",
              " '                        </li>',\n",
              " '                    ',\n",
              " '                </ul>',\n",
              " '            </li>',\n",
              " '        ',\n",
              " '            ',\n",
              " '            ',\n",
              " '            <li class=\"dropdown\">',\n",
              " '                <a href=\"#mega-submenu-2-880351479\" class=\"dropdown-expand\" role=\"button\" tabindex=\"0\" id=\"dropdownMenuButton2-880351479\" aria-haspopup=\"true\" aria-expanded=\"false\" data-ga-event=\"01;menu;investors;reporting;\">',\n",
              " '                    <span>Reporting</span>',\n",
              " '                    <span class=\"dropdown-icon pull-right\">',\n",
              " '                        <i class=\"fas far fa-plus-circle\"></i>',\n",
              " '                    </span>',\n",
              " '                </a>',\n",
              " '                <ul id=\"mega-submenu-2-880351479\" class=\"dropdown-children collapse\" aria-labelledby=\"dropdownMenuButton2-880351479\">',\n",
              " '                    ',\n",
              " '                        <li><a href=\"/en/investors/reporting/sec-filings\" class=\"dropdown-item\" data-ga-event=\"01;menu;investors;reporting;sec_filings\">SEC Filings</a>',\n",
              " '                        </li>',\n",
              " '                    ',\n",
              " '                        <li><a href=\"/en/investors/reporting/other-regulated-information\" class=\"dropdown-item\" data-ga-event=\"01;menu;investors;reporting;other_regulated_info\">Other Regulated Information</a>',\n",
              " '                        </li>',\n",
              " '                    ',\n",
              " '                        <li><a href=\"/en/investors/reporting/financial-reports\" class=\"dropdown-item\" data-ga-event=\"01;menu;investors;reporting;financial_reports\">Financial Reports</a>',\n",
              " '                        </li>',\n",
              " '                    ',\n",
              " '                </ul>',\n",
              " '            </li>',\n",
              " '        ',\n",
              " '            ',\n",
              " '            <li>',\n",
              " '                <a href=\"/en/investors/events-and-presentations\" data-ga-event=\"01;menu;investors;events_and_presentations;\">Events and Presentations</a>',\n",
              " '            </li>',\n",
              " '            ',\n",
              " '        ',\n",
              " '            ',\n",
              " '            <li>',\n",
              " '                <a href=\"/en/investors/bond-info\" data-ga-event=\"01;menu;investors;bond_info;\">Bond Info</a>',\n",
              " '            </li>',\n",
              " '            ',\n",
              " '        ',\n",
              " '            ',\n",
              " '            <li>',\n",
              " '                <a href=\"/en/investors/ratings\" data-ga-event=\"01;menu;investors;ratings;\">Ratings</a>',\n",
              " '            </li>',\n",
              " '            ',\n",
              " '        ',\n",
              " '            ',\n",
              " '            <li>',\n",
              " '                <a href=\"/en/investors/fca-groupe-psa-merger\" data-ga-event=\"01;menu;investors;fca_groupe_psa_merger;\">FCA | Groupe PSA Merger</a>',\n",
              " '            </li>',\n",
              " '            ',\n",
              " '        ',\n",
              " '            ',\n",
              " '            <li>',\n",
              " '                <a href=\"/en/investors/investor-relations-contacts\" data-ga-event=\"01;menu;investors;investor_relations_contacts;\">Investor Relations Contacts</a>',\n",
              " '            </li>',\n",
              " '            ',\n",
              " '        ',\n",
              " '    </ul>',\n",
              " '',\n",
              " '',\n",
              " '',\n",
              " '',\n",
              " '',\n",
              " '                                            </li>',\n",
              " '                                        ',\n",
              " '                                            <li class=\"col-md-2 dropdown-item item-7 item-last \">',\n",
              " '                                                ',\n",
              " '                                                ',\n",
              " '',\n",
              " '',\n",
              " '',\n",
              " '',\n",
              " '',\n",
              " '    <h2 class=\"header-dropdown\">',\n",
              " '        ',\n",
              " '        ',\n",
              " '            <a href=\"#mega-submenu-1st-14230778\" class=\"dropdown-expand\" data-toggle=\"collapse\" role=\"button\" tabindex=\"0\" id=\"dropdownMenuButton1st-14230778\" aria-haspopup=\"true\" aria-expanded=\"false\">News</a>',\n",
              " '        ',\n",
              " '    </h2>',\n",
              " '    <ul aria-labelledby=\"dropdownMenuButton1st-14230778\">',\n",
              " '        ',\n",
              " '            ',\n",
              " '            <li>',\n",
              " '                <a href=\"/en/news/news-dashboard\" data-ga-event=\"01;menu;news;news_dashboard;\">News Dashboard</a>',\n",
              " '            </li>',\n",
              " '            ',\n",
              " '        ',\n",
              " '            ',\n",
              " '            <li>',\n",
              " '                <a href=\"/en/news/press-releases\" data-ga-event=\"01;menu;news;press_releases;\">Press Releases</a>',\n",
              " '            </li>',\n",
              " '            ',\n",
              " '        ',\n",
              " '            ',\n",
              " '            <li>',\n",
              " '                <a href=\"/en/news/recent-events\" data-ga-event=\"01;menu;news;recent_events;\">Recent Events</a>',\n",
              " '            </li>',\n",
              " '            ',\n",
              " '        ',\n",
              " '            ',\n",
              " '            <li>',\n",
              " '                <a href=\"/en/news/insights\" data-ga-event=\"01;menu;news;insights;\">Insights</a>',\n",
              " '            </li>',\n",
              " '            ',\n",
              " '        ',\n",
              " '            ',\n",
              " '            <li>',\n",
              " '                <a href=\"/en/news/media-contacts\" data-ga-event=\"01;menu;news;media_contacts;\">Media Contacts</a>',\n",
              " '            </li>',\n",
              " '            ',\n",
              " '        ',\n",
              " '    </ul>',\n",
              " '',\n",
              " '',\n",
              " '',\n",
              " '',\n",
              " '',\n",
              " '                                            </li>',\n",
              " '                                        ',\n",
              " '                                    </div>',\n",
              " '                                </ul>',\n",
              " '                            </li>',\n",
              " '                        </ul>',\n",
              " '                        <a href=\"/en\" data-ga-event=\"03;header;logo;logo_stellantis\" tabindex=\"0\">',\n",
              " '                            <h1 class=\"sr-only h1-index\">Home page</h1>',\n",
              " '                            <img alt=\"Stellantis logo\" src=\"/content/dam/stellantis-corporate/assets/stell-logo-white.svg\" class=\"img-hmc-logo\"/>',\n",
              " '                        </a>',\n",
              " '                    </div>',\n",
              " '                </div>',\n",
              " '                ',\n",
              " '                ',\n",
              " '                    <div id=\"search-form-wrapper\" class=\"col-md-2 col-sm-12\">',\n",
              " '                        ',\n",
              " '                        <form id=\"search-form\" role=\"search\" data-ga-event=\"04;search;header;q;en\">',\n",
              " '                            <label class=\"sr-only\" for=\"search-input\">Search</label>',\n",
              " '                            <input type=\"text\" id=\"search-input\" tabindex=\"0\" aria-label=\"search\" name=\"search\"/>',\n",
              " '                            <button id=\"search-btn\" tabindex=\"0\" class=\"no-btn-style\" aria-label=\"search\" type=\"submit\">',\n",
              " '                                <i class=\"fas fa-search\"></i>',\n",
              " '                            </button>',\n",
              " '                        </form>',\n",
              " '                    </div>',\n",
              " '                ',\n",
              " '                <div id=\"menu-lang\" class=\"brand-color col-md-1 col-sm-12\">',\n",
              " '                    <ul class=\"acc-menu\">',\n",
              " '                        <li><a href=\"/en\" class=\"active\" tabindex=\"0\" role=\"button\" aria-label=\"Change to English EN\" data-ga-event=\"03;header;language;en\">EN</a></li>',\n",
              " '                        <li class=\"acc-div-l acc-div-r\"><a href=\"/fr\" tabindex=\"0\" role=\"button\" aria-label=\"Change to French FR\" data-ga-event=\"03;header;language;fr\">FR</a></li>',\n",
              " '                        <li><a href=\"/it\" tabindex=\"0\" role=\"button\" aria-label=\"Change to Italian IT\" class=\"pr-0 \" data-ga-event=\"03;header;language;it\">IT</a></li>',\n",
              " '                    </ul>',\n",
              " '                </div>',\n",
              " '            </div>',\n",
              " '        </nav>',\n",
              " '    </div>',\n",
              " '</header>',\n",
              " '',\n",
              " '',\n",
              " '',\n",
              " '    ',\n",
              " '    ',\n",
              " '',\n",
              " '    <div id=\"container-overlay\">',\n",
              " '        ',\n",
              " '        ',\n",
              " '',\n",
              " '    ',\n",
              " '    <div class=\"background-layer colored\">',\n",
              " '        <div id=\"main\" role=\"main\">',\n",
              " '',\n",
              " '            ',\n",
              " '            ',\n",
              " '            ',\n",
              " '',\n",
              " '    ',\n",
              " '    ',\n",
              " '    ',\n",
              " '    ',\n",
              " '        ',\n",
              " '',\n",
              " '',\n",
              " '',\n",
              " '',\n",
              " '',\n",
              " '',\n",
              " '',\n",
              " '',\n",
              " '',\n",
              " '    ',\n",
              " '',\n",
              " '',\n",
              " '',\n",
              " '',\n",
              " '',\n",
              " '<div class=\"full-width-container full-width-bg bg-white    \">',\n",
              " '    <div class=\"row no-gutters\">',\n",
              " '        ',\n",
              " '        ',\n",
              " '        ',\n",
              " '        ',\n",
              " '        ',\n",
              " '        ',\n",
              " '        ',\n",
              " '        ',\n",
              " '        ',\n",
              " '',\n",
              " '',\n",
              " '        ',\n",
              " '',\n",
              " '        ',\n",
              " '',\n",
              " '        ',\n",
              " '            <section class=\"inside-container col-md-12 col-sm-12 container-ingrid-rt  mosaic-collapse      mt-less-4\">',\n",
              " '                ',\n",
              " '                <div class=\"w-100 container-w-image\">',\n",
              " '                    <figure class=\"inside-grid\">',\n",
              " '                        <img class=\"desktop-view-only bp-992\" alt src=\"/content/dam/stellantis-corporate/home-page-carousel/fy-2022/hero-fy2022.jpg\" data-object-fit=\"\" role=\"presentation\"/>',\n",
              " '                        ',\n",
              " '                            <img class=\"only-mobile-view bp-992\" alt src=\"/content/dam/stellantis-corporate/home-page-carousel/fy-2022/hero-fy2022-mobile.jpg\" data-object-fit=\"\" role=\"presentation\"/>',\n",
              " '                        ',\n",
              " '                        ',\n",
              " '',\n",
              " '                        <div class=\"top-row\">',\n",
              " '                            ',\n",
              " '                            ',\n",
              " '                            ',\n",
              " '                        </div>',\n",
              " '',\n",
              " '                        <div class=\"bottom-row\">',\n",
              " '                            ',\n",
              " '                                <p class=\"text-right\">',\n",
              " '                                    <span class=\"title-over-image-w \"><span class=\"position-relative\" style=\"font-size: 36.0px;font-weight: 700;line-height: 1.1em;bottom: 12.0px;\">Full Year 2022 Results</span></span>',\n",
              " '                                </p>',\n",
              " '                            ',\n",
              " '                            ',\n",
              " '                                <p class=\"text-right\">',\n",
              " '                                    <span class=\"subtitle-over-image-w \"><span style=\"line-height: 1.3em;\">Conference Call and Webcast <br />Wednesday, February 22, 2023</span></span>',\n",
              " '                                </p>',\n",
              " '                            ',\n",
              " '                            ',\n",
              " '                                <a href=\"/en/investors/events-and-presentations\" target=\"_self\" class=\"button-banner-over-image-w float-right \" data-ga-event=\"16;interaction_on_page;go_to_page;span_classposition_relative_stylefont_size_36px_font_weight_700_line_height_11em_bottom_12pxfull_year_2022_resultsspan;en;/content/stellantis_corporate/sites/en/investors/events_presentations\">GO TO PAGE</a>',\n",
              " '                            ',\n",
              " '                        </div>',\n",
              " '',\n",
              " '                        <div class=\"centered\">',\n",
              " '                            ',\n",
              " '                            ',\n",
              " '',\n",
              " '                            ',\n",
              " '                        </div>',\n",
              " '                    </figure>',\n",
              " '                    ',\n",
              " '                </div>',\n",
              " '            </section>',\n",
              " '        ',\n",
              " '',\n",
              " '        ',\n",
              " '    </div>',\n",
              " '</div>',\n",
              " '',\n",
              " '<div class=\"container horizontal-spacer bg-white\" aria-hidden=\"true\">',\n",
              " '    <div class=\"row no-gutters\">',\n",
              " '        <section class=\"col-12\">',\n",
              " '            <div class=\"only-mobile-view bp-992\" style=\"height:50px;\"></div>',\n",
              " '            <div class=\"desktop-view-only bp-992\" style=\"height:80px;\"></div>',\n",
              " '        </section>',\n",
              " '    </div>',\n",
              " '</div>',\n",
              " '',\n",
              " '',\n",
              " '',\n",
              " '',\n",
              " '<div class=\"container full-width-bg bg-white\">',\n",
              " '    ',\n",
              " '    ',\n",
              " '',\n",
              " '    <div class=\"row no-gutters\">',\n",
              " '        <section class=\"inside-container col-md-12 col-sm-12\">',\n",
              " '            ',\n",
              " '            <div class=\"card-deck card-container-c42 slim-card-size\">',\n",
              " '                ',\n",
              " '                    <div><div class=\"item1 card-slim\">',\n",
              " '',\n",
              " '',\n",
              " '    ',\n",
              " '    ',\n",
              " '',\n",
              " '    <div class=\"card editor  card-text-white\">',\n",
              " '        <img class=\"full-card-image\" src=\"/content/dam/stellantis-corporate/home-page-carousel/box-wave-1.jpg\" alt=\"Letter to Stellantis Shareholders\"/>',\n",
              " '',\n",
              " '        <div class=\"card-overlay-c42\"></div>',\n",
              " '',\n",
              " '        <div class=\"card-body\">',\n",
              " '            ',\n",
              " '',\n",
              " '            ',\n",
              " '                ',\n",
              " '                ',\n",
              " '',\n",
              " '                ',\n",
              " '                ',\n",
              " '',\n",
              " '                ',\n",
              " '                <h2 class=\"title-inside-grid text-left\">',\n",
              " '                    <span class=\"h2vstyle\">Letter to Stellantis Shareholders</span>',\n",
              " '                </h2>',\n",
              " '',\n",
              " '                ',\n",
              " '                ',\n",
              " '',\n",
              " '                ',\n",
              " '                ',\n",
              " '',\n",
              " '                ',\n",
              " '                ',\n",
              " '            ',\n",
              " '',\n",
              " '            <div class=\"card-text\">',\n",
              " '                <p class=\"position-relative\" style=\"bottom: 10.0px;\">from Chair of the Remuneration Committee<br />',\n",
              " '<span class=\"s4\">February 24, 2023</span></p>',\n",
              " '',\n",
              " '            </div>',\n",
              " '        </div>',\n",
              " '',\n",
              " '        ',\n",
              " '        ',\n",
              " '        ',\n",
              " '        ',\n",
              " '        ',\n",
              " '        ',\n",
              " '        ',\n",
              " '',\n",
              " '        <div class=\"c-42-cta\">',\n",
              " '            <p class=\"text-left\">',\n",
              " '                ',\n",
              " '                    <a href=\"/content/dam/stellantis-corporate/investors/stock-and-shareholder-info/shareholder-meetings/agm-2023/Letter-to-Stellantis-Shareholders-from-Chair-of-the-Remuneration-Committee.pdf\" data-ga-event=\"35;interaction_on_page;download;pdf-internal_page;en;/content/dam/stellantis-corporate/investors/stock-and-shareholder-info/shareholder-meetings/agm-2023/Letter-to-Stellantis-Shareholders-from-Chair-of-the-Remuneration-Committee.pdf\" target=\"_self\" aria-label=\"Letter to Stellantis Shareholders from Chair of the Remuneration Committee\">DOWNLOAD</a>',\n",
              " '                ',\n",
              " '',\n",
              " '',\n",
              " '                ',\n",
              " '            </p>',\n",
              " '        </div>',\n",
              " '    </div>',\n",
              " '',\n",
              " '',\n",
              " '</div>',\n",
              " '</div>',\n",
              " '                ',\n",
              " '                    <div><div class=\"item2 card-slim\">',\n",
              " '',\n",
              " '',\n",
              " '    ',\n",
              " '    ',\n",
              " '',\n",
              " '    <div class=\"card editor  card-text-white\">',\n",
              " '        <img class=\"full-card-image\" src=\"/content/dam/stellantis-corporate/home-page-carousel/strategic-plan-2030/Dare-Forward-2030-card.jpg\" alt=\"image of Dare Forward 2030\"/>',\n",
              " '',\n",
              " '        <div class=\"card-overlay-c42\"></div>',\n",
              " '',\n",
              " '        <div class=\"card-body\">',\n",
              " '            ',\n",
              " '',\n",
              " '            ',\n",
              " '                ',\n",
              " '                ',\n",
              " '',\n",
              " '                ',\n",
              " '                ',\n",
              " '',\n",
              " '                ',\n",
              " '                <h2 class=\"title-inside-grid text-left\">',\n",
              " '                    <span class=\"h2vstyle\">Dare Forward 2030: A Bold Strategic Plan</span>',\n",
              " '                </h2>',\n",
              " '',\n",
              " '                ',\n",
              " '                ',\n",
              " '',\n",
              " '                ',\n",
              " '                ',\n",
              " '',\n",
              " '                ',\n",
              " '                ',\n",
              " '            ',\n",
              " '',\n",
              " '            ',\n",
              " '        </div>',\n",
              " '',\n",
              " '        ',\n",
              " '        ',\n",
              " '        ',\n",
              " '        ',\n",
              " '        ',\n",
              " '        ',\n",
              " '        ',\n",
              " '',\n",
              " '        <div class=\"c-42-cta\">',\n",
              " '            <p class=\"text-left\">',\n",
              " '                ',\n",
              " '',\n",
              " '',\n",
              " '                ',\n",
              " '                    ',\n",
              " '                    <a href=\"/en/company/dare-forward-2030\" data-ga-event=\"35;interaction_on_page;page_link;internal_page;en;/content/stellantis-corporate/sites/en/group/a-bold-strategic-plan\" target=\"_self\">LEARN MORE</a>',\n",
              " '                ',\n",
              " '            </p>',\n",
              " '        </div>',\n",
              " '    </div>',\n",
              " '',\n",
              " '',\n",
              " '</div>',\n",
              " '</div>',\n",
              " '                ',\n",
              " '                    <div><div class=\"item3 card-slim\">',\n",
              " '',\n",
              " '',\n",
              " '    ',\n",
              " '    ',\n",
              " '',\n",
              " '    <div class=\"card editor  card-text-white\">',\n",
              " '        <img class=\"full-card-image\" src=\"/content/dam/stellantis-corporate/home-page-carousel/fom-card.png\" alt=\"image of Freedom of Mobility Logo\"/>',\n",
              " '',\n",
              " '        ',\n",
              " '',\n",
              " '        <div class=\"card-body\">',\n",
              " '            ',\n",
              " '',\n",
              " '            ',\n",
              " '                ',\n",
              " '                ',\n",
              " '',\n",
              " '                ',\n",
              " '                ',\n",
              " '',\n",
              " '                ',\n",
              " '                <h2 class=\"title-inside-grid text-left\">',\n",
              " '                    <span class=\"h2vstyle\">Addressing the Most Urgent Mobility Issues Facing Today’s Society</span>',\n",
              " '                </h2>',\n",
              " '',\n",
              " '                ',\n",
              " '                ',\n",
              " '',\n",
              " '                ',\n",
              " '                ',\n",
              " '',\n",
              " '                ',\n",
              " '                ',\n",
              " '            ',\n",
              " '',\n",
              " '            ',\n",
              " '        </div>',\n",
              " '',\n",
              " '        ',\n",
              " '        ',\n",
              " '        ',\n",
              " '        ',\n",
              " '        ',\n",
              " '        ',\n",
              " '        ',\n",
              " '',\n",
              " '        <div class=\"c-42-cta\">',\n",
              " '            <p class=\"text-left\">',\n",
              " '                ',\n",
              " '',\n",
              " '',\n",
              " '                ',\n",
              " '                    ',\n",
              " '                    <a href=\"http://www.freedomofmobilityforum.org/\" data-ga-event=\"35;interaction_on_page;page_link;external_page;en;http://www.freedomofmobilityforum.org/\" target=\"_blank\">GO TO FORUM WEBSITE</a>',\n",
              " '                ',\n",
              " '            </p>',\n",
              " '        </div>',\n",
              " ...]"
            ]
          },
          "metadata": {},
          "execution_count": 59
        }
      ]
    },
    {
      "cell_type": "code",
      "source": [
        "html_rdd.collect()[0].find('DOCTYPE')"
      ],
      "metadata": {
        "colab": {
          "base_uri": "https://localhost:8080/"
        },
        "id": "JHyyQL6cWACO",
        "outputId": "bfa25b61-7a0f-48fc-df03-41ac4d26104c"
      },
      "execution_count": null,
      "outputs": [
        {
          "output_type": "execute_result",
          "data": {
            "text/plain": [
              "2"
            ]
          },
          "metadata": {},
          "execution_count": 48
        }
      ]
    },
    {
      "cell_type": "code",
      "source": [
        "html_rdd.collect()[0]"
      ],
      "metadata": {
        "colab": {
          "base_uri": "https://localhost:8080/",
          "height": 140
        },
        "id": "nIYGDtWzWguR",
        "outputId": "35dcae15-8145-4671-c71b-90679f1edd7c"
      },
      "execution_count": null,
      "outputs": [
        {
          "output_type": "execute_result",
          "data": {
            "text/plain": [
              "'<!DOCTYPE html><html class=\"no-js\"><head><meta content=\"IE=edge,chrome=1\" http-equiv=\"X-UA-Compatible\"><meta charset=\"utf-8\"><meta content=\"text/html\" http-equiv=\"Content-Type\"><meta name=\"viewport\" content=\"width=device-width, initial-scale=1.0, minimum-scale=1.0\"><link rel=\"dns-prefetch\" href=\"/optimizelyjs/131788053.js\" /><link rel=\"dns-prefetch\" href=\"//tpc.googlesyndication.com\" /><link rel=\"dns-prefetch\" href=\"//pagead2.googlesyndication.com\" /><link rel=\"dns-prefetch\" href=\"//www.googletagservices.com\" /><link rel=\"dns-prefetch\" href=\"//partner.googleadservices.com\" /><link rel=\"dns-prefetch\" href=\"//www.google.com\" /><link rel=\"dns-prefetch\" href=\"//aax.amazon-adsystem.com\" /><link rel=\"dns-prefetch\" href=\"//c.amazon-adsystem.com\" /><link rel=\"dns-prefetch\" href=\"//cdn.krxd.net\" /><link rel=\"dns-prefetch\" href=\"//ads.rubiconproject.com\" /><link rel=\"dns-prefetch\" href=\"//optimized-by.rubiconproject.com\" /><link rel=\"dns-prefetch\" href=\"//fastlane.rubiconproject.com\" /><link rel=\"dns-prefetch\" href=\"//fastlane-adv.rubiconproject.com\" /><link rel=\"dns-prefetch\" href=”//ib.adnxs.com”/><link rel=\"dns-prefetch\" href=”//prebid.adnxs.com”/><link rel=\"dns-prefetch\" href=\"http://segment-data-us-east.zqtk.net/turner-47fcf6\" /><link rel=\"dns-prefetch\" href=\"//static.yieldmo.com\" /><link rel=\"dns-prefetch\" href=\"//w.usabilla.com\" /><link rel=\"dns-prefetch\" href=\"\" /><link rel=\"dns-prefetch\" href=\"//data.api.cnn.io\" /><link rel=\"dns-prefetch\" href=\"//pmd.cdn.turner.com\" /><link rel=\"dns-prefetch\" href=\"//amd.cdn.turner.com\" /><link rel=\"dns-prefetch\" href=\"//ht.cdn.turner.com\" /><link rel=\"dns-prefetch\" href=\"//www.ugdturner.com\" /><link rel=\"dns-prefetch\" href=\"//vrt.outbrain.com\" /><link rel=\"dns-prefetch\" href=\"//consent.truste.com\" /><link rel=\"dns-prefetch\" href=\"//as.casalemedia.com\" /><link rel=\"dns-prefetch\" href=\"//as-sec.casalemedia.com\" /><link rel=\"dns-prefetch\" href=\"//dsum-sec.casalemedia.com\" /><link rel=\"dns-prefetch\" href=\"//js-sec.indexww.com\" /><link rel=\"dns-prefetch\" href=\"//data.cnn.com\" /><link rel=\"dns-prefetch\" href=\"//cdn.cnn.com\" /><link rel=\"dns-prefetch\" href=\"//www.i.cdn.cnn.com\" /><link rel=\"preload\" href=\"https://registry.api.cnn.io/bundles/fave/latest-4.x/css\" as=\"style\" type=\"text/css\">'"
            ],
            "application/vnd.google.colaboratory.intrinsic+json": {
              "type": "string"
            }
          },
          "metadata": {},
          "execution_count": 47
        }
      ]
    },
    {
      "cell_type": "code",
      "source": [],
      "metadata": {
        "id": "0GlDEwEZWuDd"
      },
      "execution_count": null,
      "outputs": []
    }
  ]
}